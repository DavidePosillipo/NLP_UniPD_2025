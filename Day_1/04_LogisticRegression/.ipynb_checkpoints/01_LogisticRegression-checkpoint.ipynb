{
 "cells": [
  {
   "cell_type": "markdown",
   "id": "eae851b7-8b70-4a35-80fb-b7c548032b80",
   "metadata": {},
   "source": [
    "# Logistic Regression Text Classification"
   ]
  },
  {
   "cell_type": "code",
   "execution_count": null,
   "id": "a685ce16-8bbd-4493-a961-e4004f2526e3",
   "metadata": {
    "editable": true,
    "slideshow": {
     "slide_type": ""
    },
    "tags": []
   },
   "outputs": [],
   "source": [
    "import pandas as pd\n",
    "import seaborn as sns\n",
    "import matplotlib.pyplot as plt\n",
    "\n",
    "from nltk import word_tokenize          \n",
    "from nltk.stem import WordNetLemmatizer \n",
    "from nltk import pos_tag\n",
    "from nltk.corpus import stopwords\n",
    "from nltk.tokenize import RegexpTokenizer\n",
    "\n",
    "from sklearn.model_selection import train_test_split, cross_val_score, GridSearchCV, StratifiedKFold\n",
    "from sklearn.feature_extraction.text import CountVectorizer, TfidfVectorizer, TfidfTransformer\n",
    "from sklearn.linear_model import LogisticRegression\n",
    "from sklearn.pipeline import make_pipeline\n",
    "from sklearn.metrics import classification_report, accuracy_score, ConfusionMatrixDisplay, confusion_matrix\n",
    "from sklearn.utils.class_weight import compute_sample_weight\n",
    "from sklearn.linear_model import LogisticRegression\n",
    "from sklearn.preprocessing import StandardScaler\n",
    "from sklearn.ensemble import VotingClassifier"
   ]
  },
  {
   "cell_type": "code",
   "execution_count": null,
   "id": "a884d3af-b1ad-437e-85f3-da6b86db0a73",
   "metadata": {},
   "outputs": [],
   "source": []
  },
  {
   "cell_type": "code",
   "execution_count": null,
   "id": "d8eaae3b-c639-47cd-95ee-b01c652cbb33",
   "metadata": {},
   "outputs": [],
   "source": [
    "nltk_stopw = stopwords.words('english')"
   ]
  },
  {
   "cell_type": "code",
   "execution_count": null,
   "id": "9592edd5-f84f-4165-b7e9-fdd4ac3947a3",
   "metadata": {
    "editable": true,
    "slideshow": {
     "slide_type": ""
    },
    "tags": []
   },
   "outputs": [],
   "source": [
    "df = pd.read_pickle(\"../../data/dreams_annotated_cleaned.pkl\")\n",
    "df[\"report_cleaned\"] = df[\"report_cleaned\"].apply(lambda x: x[0])\n",
    "#df = df.sample(frac = 1)\n",
    "df = df.query(\"emotion == 'CO D' or emotion == 'AN D' or emotion == 'SD D' or emotion == 'AP D' or emotion == 'HA D'\")[[\"report_cleaned\", \"emotion\"]]\n",
    "df.head()"
   ]
  },
  {
   "cell_type": "code",
   "execution_count": null,
   "id": "cbe8cd8a-355b-4cb3-a104-d9502ce270c3",
   "metadata": {},
   "outputs": [],
   "source": [
    "df"
   ]
  },
  {
   "cell_type": "markdown",
   "id": "3a162457-ae00-48c0-bf6d-ab2c38ddec5f",
   "metadata": {
    "editable": true,
    "slideshow": {
     "slide_type": ""
    },
    "tags": []
   },
   "source": [
    "## Preprocessing and visualization"
   ]
  },
  {
   "cell_type": "markdown",
   "id": "59efd75a-6d2a-4709-a2e7-1bc4d355b4ec",
   "metadata": {},
   "source": [
    "Convert code to emotion class according to the annotation guideline : https://dreams.ucsc.edu/Coding/emotions.html"
   ]
  },
  {
   "cell_type": "code",
   "execution_count": null,
   "id": "e0af0d38-75fb-45f7-9103-4cb0c6c41139",
   "metadata": {},
   "outputs": [],
   "source": [
    "def to_emotion_class(emotion):\n",
    "    \n",
    "    if emotion == \"AP D\":\n",
    "        return \"fear\"\n",
    "    elif emotion == \"CO D\":\n",
    "        return \"confusion\"\n",
    "    elif emotion == \"SD D\":\n",
    "        return \"sadness\"\n",
    "    elif emotion == \"AN D\":\n",
    "        return \"anger\"\n",
    "    else:\n",
    "        return \"happiness\"\n",
    "\n",
    "df[\"emotion\"] = df[\"emotion\"].apply(lambda x: to_emotion_class(x))\n",
    "df.head()"
   ]
  },
  {
   "cell_type": "code",
   "execution_count": null,
   "id": "3df000fd-33c6-4b49-b53c-c26a005dded3",
   "metadata": {},
   "outputs": [],
   "source": [
    "plt.figure(figsize=(10, 6))\n",
    "sns.countplot(x='emotion', data=df)\n",
    "\n",
    "plt.title('Distribution of emotions') \n",
    "plt.xlabel('Emotion')\n",
    "plt.ylabel('Count')\n",
    "plt.xticks(rotation=45)\n",
    "\n",
    "plt.show()"
   ]
  },
  {
   "cell_type": "markdown",
   "id": "c46e5ddf-c780-43e6-b5e0-a77d6a7f66c7",
   "metadata": {},
   "source": [
    "## Training and test sets"
   ]
  },
  {
   "cell_type": "code",
   "execution_count": null,
   "id": "cdc43018-b3db-46f9-9a3d-1695a62307e1",
   "metadata": {
    "editable": true,
    "slideshow": {
     "slide_type": ""
    },
    "tags": []
   },
   "outputs": [],
   "source": [
    "X = df['report_cleaned']\n",
    "y = df['emotion']"
   ]
  },
  {
   "cell_type": "code",
   "execution_count": null,
   "id": "144dcfd1-a7df-4a8c-a4b8-e1d301afa2a7",
   "metadata": {
    "editable": true,
    "slideshow": {
     "slide_type": ""
    },
    "tags": []
   },
   "outputs": [],
   "source": [
    "X_train, X_test, y_train, y_test = train_test_split(X, y, test_size=0.2, random_state=42)"
   ]
  },
  {
   "cell_type": "markdown",
   "id": "7ac26f4c-aaf1-4312-8420-b029d3925ab0",
   "metadata": {},
   "source": [
    "## Training: Bag of Words (CountVectorizer) and Logistic Regression"
   ]
  },
  {
   "cell_type": "markdown",
   "id": "70a1c46a-dc53-4bb1-bce5-d6464295ef08",
   "metadata": {},
   "source": [
    "Unigrams: All unique words in a document\n",
    "\n",
    "BiGrams: All permutations of two consecutive words in a document\n",
    "\n",
    "TriGrams: All permutations of three consecutive words in a document"
   ]
  },
  {
   "cell_type": "code",
   "execution_count": null,
   "id": "3f3b13ac-1ff0-4fd7-af59-39884f7ad83e",
   "metadata": {},
   "outputs": [],
   "source": [
    "model = make_pipeline(CountVectorizer(), LogisticRegression())"
   ]
  },
  {
   "cell_type": "code",
   "execution_count": null,
   "id": "fd8370cd-706b-46bb-9b23-f2837eaa64b7",
   "metadata": {
    "editable": true,
    "slideshow": {
     "slide_type": ""
    },
    "tags": []
   },
   "outputs": [],
   "source": [
    "model.fit(X_train, y_train)\n",
    "\n",
    "y_pred = model.predict(X_test)\n",
    "\n",
    "print(f\"Features dimension: {len(X_train), len(model[0].vocabulary_)}\")\n",
    "print(\"Classification Report:\\n\", classification_report(y_test, y_pred))"
   ]
  },
  {
   "cell_type": "markdown",
   "id": "8a44084f-57db-4211-916e-07eab0d94b1a",
   "metadata": {},
   "source": [
    "## Plot confusion matrix"
   ]
  },
  {
   "cell_type": "code",
   "execution_count": null,
   "id": "a56408c8-d136-426f-8eb9-4e8252e4eaa2",
   "metadata": {
    "editable": true,
    "slideshow": {
     "slide_type": ""
    },
    "tags": []
   },
   "outputs": [],
   "source": [
    "cm = confusion_matrix(y_test, y_pred, labels=model.classes_)\n",
    "disp = ConfusionMatrixDisplay(confusion_matrix=cm,\n",
    "                               display_labels=model.classes_)\n",
    "disp.plot()\n",
    "plt.show()"
   ]
  },
  {
   "cell_type": "markdown",
   "id": "9d797733-4b11-4734-9caf-87841de10cbe",
   "metadata": {},
   "source": [
    "### Model variations"
   ]
  },
  {
   "cell_type": "markdown",
   "id": "2a046030-3ca5-4838-b836-b17fb1cd1322",
   "metadata": {},
   "source": [
    "UniGram +BiGram features. This time our Bag-of-Words algorithm also considers consecutive pairs of words in the dictionary along with unique words. "
   ]
  },
  {
   "cell_type": "code",
   "execution_count": null,
   "id": "bcdb7dfb-89ea-4847-b7cc-bd1e74da94de",
   "metadata": {},
   "outputs": [],
   "source": [
    "model_2 = make_pipeline(CountVectorizer(ngram_range=(1,2)), LogisticRegression())"
   ]
  },
  {
   "cell_type": "code",
   "execution_count": null,
   "id": "88856a09-241e-4241-86cd-6d25d019d2c0",
   "metadata": {},
   "outputs": [],
   "source": [
    "model_2.fit(X_train, y_train)\n",
    "\n",
    "y_pred_2 = model_2.predict(X_test)\n",
    "\n",
    "print(f\"Features dimension: {len(X_train), len(model_2[0].vocabulary_)}\")\n",
    "print(\"Classification Report:\\n\", classification_report(y_test, y_pred_2))"
   ]
  },
  {
   "cell_type": "markdown",
   "id": "c2df5034-7f1e-480b-9483-6b393bc33663",
   "metadata": {},
   "source": [
    "Adding Tri-Gram features also into our feature set. This time we also consider three consecutive word permutations also into our vocabulary"
   ]
  },
  {
   "cell_type": "code",
   "execution_count": null,
   "id": "d9a80a1e-b448-4d16-b951-6e1dd1bff95e",
   "metadata": {},
   "outputs": [],
   "source": [
    "model_3 = make_pipeline(CountVectorizer(ngram_range=(1,3)), LogisticRegression())"
   ]
  },
  {
   "cell_type": "code",
   "execution_count": null,
   "id": "43b1c7c3-b599-402e-b3ee-424516e7ef0a",
   "metadata": {},
   "outputs": [],
   "source": [
    "model_3.fit(X_train, y_train)\n",
    "\n",
    "y_pred_3 = model_3.predict(X_test)\n",
    "\n",
    "print(f\"Features dimension: {len(X_train), len(model_3[0].vocabulary_)}\")\n",
    "print(\"Classification Report:\\n\", classification_report(y_test, y_pred_3))"
   ]
  },
  {
   "cell_type": "code",
   "execution_count": null,
   "id": "a8f6335e-7853-49af-9cbe-a2307745db44",
   "metadata": {},
   "outputs": [],
   "source": []
  }
 ],
 "metadata": {
  "kernelspec": {
   "display_name": "Python 3 (ipykernel)",
   "language": "python",
   "name": "python3"
  },
  "language_info": {
   "codemirror_mode": {
    "name": "ipython",
    "version": 3
   },
   "file_extension": ".py",
   "mimetype": "text/x-python",
   "name": "python",
   "nbconvert_exporter": "python",
   "pygments_lexer": "ipython3",
   "version": "3.10.9"
  }
 },
 "nbformat": 4,
 "nbformat_minor": 5
}
