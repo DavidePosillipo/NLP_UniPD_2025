{
 "cells": [
  {
   "cell_type": "markdown",
   "id": "eae851b7-8b70-4a35-80fb-b7c548032b80",
   "metadata": {},
   "source": [
    "# Logistic Regression Text Classification"
   ]
  },
  {
   "cell_type": "code",
   "execution_count": 1,
   "id": "a685ce16-8bbd-4493-a961-e4004f2526e3",
   "metadata": {
    "editable": true,
    "slideshow": {
     "slide_type": ""
    },
    "tags": []
   },
   "outputs": [],
   "source": [
    "import pandas as pd\n",
    "import seaborn as sns\n",
    "import matplotlib.pyplot as plt\n",
    "\n",
    "from nltk import word_tokenize          \n",
    "from nltk.stem import WordNetLemmatizer \n",
    "from nltk import pos_tag\n",
    "from nltk.corpus import stopwords\n",
    "from nltk.tokenize import RegexpTokenizer\n",
    "\n",
    "from sklearn.model_selection import train_test_split, cross_val_score, GridSearchCV, StratifiedKFold\n",
    "from sklearn.feature_extraction.text import CountVectorizer, TfidfVectorizer, TfidfTransformer\n",
    "from sklearn.linear_model import LogisticRegression\n",
    "from sklearn.pipeline import make_pipeline\n",
    "from sklearn.metrics import classification_report, accuracy_score, ConfusionMatrixDisplay, confusion_matrix\n",
    "from sklearn.utils.class_weight import compute_sample_weight\n",
    "from sklearn.linear_model import LogisticRegression\n",
    "from sklearn.preprocessing import StandardScaler\n",
    "from sklearn.ensemble import VotingClassifier"
   ]
  },
  {
   "cell_type": "code",
   "execution_count": null,
   "id": "a884d3af-b1ad-437e-85f3-da6b86db0a73",
   "metadata": {},
   "outputs": [],
   "source": []
  },
  {
   "cell_type": "code",
   "execution_count": 2,
   "id": "d8eaae3b-c639-47cd-95ee-b01c652cbb33",
   "metadata": {},
   "outputs": [],
   "source": [
    "nltk_stopw = stopwords.words('english')"
   ]
  },
  {
   "cell_type": "code",
   "execution_count": 3,
   "id": "9592edd5-f84f-4165-b7e9-fdd4ac3947a3",
   "metadata": {
    "editable": true,
    "slideshow": {
     "slide_type": ""
    },
    "tags": []
   },
   "outputs": [
    {
     "data": {
      "text/html": [
       "<div>\n",
       "<style scoped>\n",
       "    .dataframe tbody tr th:only-of-type {\n",
       "        vertical-align: middle;\n",
       "    }\n",
       "\n",
       "    .dataframe tbody tr th {\n",
       "        vertical-align: top;\n",
       "    }\n",
       "\n",
       "    .dataframe thead th {\n",
       "        text-align: right;\n",
       "    }\n",
       "</style>\n",
       "<table border=\"1\" class=\"dataframe\">\n",
       "  <thead>\n",
       "    <tr style=\"text-align: right;\">\n",
       "      <th></th>\n",
       "      <th>report_cleaned</th>\n",
       "      <th>emotion</th>\n",
       "    </tr>\n",
       "  </thead>\n",
       "  <tbody>\n",
       "    <tr>\n",
       "      <th>7</th>\n",
       "      <td>alone apartment old place inside build dark ma...</td>\n",
       "      <td>AP D</td>\n",
       "    </tr>\n",
       "    <tr>\n",
       "      <th>14</th>\n",
       "      <td>car people come downtown area place past lot t...</td>\n",
       "      <td>CO D</td>\n",
       "    </tr>\n",
       "    <tr>\n",
       "      <th>18</th>\n",
       "      <td>deliver house sit car look strange dragonfly l...</td>\n",
       "      <td>AP D</td>\n",
       "    </tr>\n",
       "    <tr>\n",
       "      <th>26</th>\n",
       "      <td>walk home little glass figure maybe little fin...</td>\n",
       "      <td>AP D</td>\n",
       "    </tr>\n",
       "    <tr>\n",
       "      <th>31</th>\n",
       "      <td>cat move one place another two somewhat awkwar...</td>\n",
       "      <td>HA D</td>\n",
       "    </tr>\n",
       "  </tbody>\n",
       "</table>\n",
       "</div>"
      ],
      "text/plain": [
       "                                       report_cleaned emotion\n",
       "7   alone apartment old place inside build dark ma...    AP D\n",
       "14  car people come downtown area place past lot t...    CO D\n",
       "18  deliver house sit car look strange dragonfly l...    AP D\n",
       "26  walk home little glass figure maybe little fin...    AP D\n",
       "31  cat move one place another two somewhat awkwar...    HA D"
      ]
     },
     "execution_count": 3,
     "metadata": {},
     "output_type": "execute_result"
    }
   ],
   "source": [
    "df = pd.read_pickle(\"../../data/dreams_annotated_cleaned.pkl\")\n",
    "df[\"report_cleaned\"] = df[\"report_cleaned\"].apply(lambda x: x[0])\n",
    "#df = df.sample(frac = 1)\n",
    "df = df.query(\"emotion == 'CO D' or emotion == 'AN D' or emotion == 'SD D' or emotion == 'AP D' or emotion == 'HA D'\")[[\"report_cleaned\", \"emotion\"]]\n",
    "df.head()"
   ]
  },
  {
   "cell_type": "code",
   "execution_count": 4,
   "id": "cbe8cd8a-355b-4cb3-a104-d9502ce270c3",
   "metadata": {},
   "outputs": [
    {
     "data": {
      "text/html": [
       "<div>\n",
       "<style scoped>\n",
       "    .dataframe tbody tr th:only-of-type {\n",
       "        vertical-align: middle;\n",
       "    }\n",
       "\n",
       "    .dataframe tbody tr th {\n",
       "        vertical-align: top;\n",
       "    }\n",
       "\n",
       "    .dataframe thead th {\n",
       "        text-align: right;\n",
       "    }\n",
       "</style>\n",
       "<table border=\"1\" class=\"dataframe\">\n",
       "  <thead>\n",
       "    <tr style=\"text-align: right;\">\n",
       "      <th></th>\n",
       "      <th>report_cleaned</th>\n",
       "      <th>emotion</th>\n",
       "    </tr>\n",
       "  </thead>\n",
       "  <tbody>\n",
       "    <tr>\n",
       "      <th>7</th>\n",
       "      <td>alone apartment old place inside build dark ma...</td>\n",
       "      <td>AP D</td>\n",
       "    </tr>\n",
       "    <tr>\n",
       "      <th>14</th>\n",
       "      <td>car people come downtown area place past lot t...</td>\n",
       "      <td>CO D</td>\n",
       "    </tr>\n",
       "    <tr>\n",
       "      <th>18</th>\n",
       "      <td>deliver house sit car look strange dragonfly l...</td>\n",
       "      <td>AP D</td>\n",
       "    </tr>\n",
       "    <tr>\n",
       "      <th>26</th>\n",
       "      <td>walk home little glass figure maybe little fin...</td>\n",
       "      <td>AP D</td>\n",
       "    </tr>\n",
       "    <tr>\n",
       "      <th>31</th>\n",
       "      <td>cat move one place another two somewhat awkwar...</td>\n",
       "      <td>HA D</td>\n",
       "    </tr>\n",
       "    <tr>\n",
       "      <th>...</th>\n",
       "      <td>...</td>\n",
       "      <td>...</td>\n",
       "    </tr>\n",
       "    <tr>\n",
       "      <th>27927</th>\n",
       "      <td>beach foreign country walk tall sand dune hop ...</td>\n",
       "      <td>AP D</td>\n",
       "    </tr>\n",
       "    <tr>\n",
       "      <th>27928</th>\n",
       "      <td>foreign country front seat passenger car drive...</td>\n",
       "      <td>AP D</td>\n",
       "    </tr>\n",
       "    <tr>\n",
       "      <th>27933</th>\n",
       "      <td>cloudy day grassy field seat cockpit wwi bipla...</td>\n",
       "      <td>AP D</td>\n",
       "    </tr>\n",
       "    <tr>\n",
       "      <th>27935</th>\n",
       "      <td>young confident walk aisle large room fill wom...</td>\n",
       "      <td>AP D</td>\n",
       "    </tr>\n",
       "    <tr>\n",
       "      <th>27938</th>\n",
       "      <td>two three time several week four town woman in...</td>\n",
       "      <td>AN D</td>\n",
       "    </tr>\n",
       "  </tbody>\n",
       "</table>\n",
       "<p>5650 rows × 2 columns</p>\n",
       "</div>"
      ],
      "text/plain": [
       "                                          report_cleaned emotion\n",
       "7      alone apartment old place inside build dark ma...    AP D\n",
       "14     car people come downtown area place past lot t...    CO D\n",
       "18     deliver house sit car look strange dragonfly l...    AP D\n",
       "26     walk home little glass figure maybe little fin...    AP D\n",
       "31     cat move one place another two somewhat awkwar...    HA D\n",
       "...                                                  ...     ...\n",
       "27927  beach foreign country walk tall sand dune hop ...    AP D\n",
       "27928  foreign country front seat passenger car drive...    AP D\n",
       "27933  cloudy day grassy field seat cockpit wwi bipla...    AP D\n",
       "27935  young confident walk aisle large room fill wom...    AP D\n",
       "27938  two three time several week four town woman in...    AN D\n",
       "\n",
       "[5650 rows x 2 columns]"
      ]
     },
     "execution_count": 4,
     "metadata": {},
     "output_type": "execute_result"
    }
   ],
   "source": [
    "df"
   ]
  },
  {
   "cell_type": "markdown",
   "id": "3a162457-ae00-48c0-bf6d-ab2c38ddec5f",
   "metadata": {
    "editable": true,
    "slideshow": {
     "slide_type": ""
    },
    "tags": []
   },
   "source": [
    "## Preprocessing and visualization"
   ]
  },
  {
   "cell_type": "markdown",
   "id": "59efd75a-6d2a-4709-a2e7-1bc4d355b4ec",
   "metadata": {},
   "source": [
    "Convert code to emotion class according to the annotation guideline : https://dreams.ucsc.edu/Coding/emotions.html"
   ]
  },
  {
   "cell_type": "code",
   "execution_count": 5,
   "id": "e0af0d38-75fb-45f7-9103-4cb0c6c41139",
   "metadata": {},
   "outputs": [
    {
     "data": {
      "text/html": [
       "<div>\n",
       "<style scoped>\n",
       "    .dataframe tbody tr th:only-of-type {\n",
       "        vertical-align: middle;\n",
       "    }\n",
       "\n",
       "    .dataframe tbody tr th {\n",
       "        vertical-align: top;\n",
       "    }\n",
       "\n",
       "    .dataframe thead th {\n",
       "        text-align: right;\n",
       "    }\n",
       "</style>\n",
       "<table border=\"1\" class=\"dataframe\">\n",
       "  <thead>\n",
       "    <tr style=\"text-align: right;\">\n",
       "      <th></th>\n",
       "      <th>report_cleaned</th>\n",
       "      <th>emotion</th>\n",
       "    </tr>\n",
       "  </thead>\n",
       "  <tbody>\n",
       "    <tr>\n",
       "      <th>7</th>\n",
       "      <td>alone apartment old place inside build dark ma...</td>\n",
       "      <td>fear</td>\n",
       "    </tr>\n",
       "    <tr>\n",
       "      <th>14</th>\n",
       "      <td>car people come downtown area place past lot t...</td>\n",
       "      <td>confusion</td>\n",
       "    </tr>\n",
       "    <tr>\n",
       "      <th>18</th>\n",
       "      <td>deliver house sit car look strange dragonfly l...</td>\n",
       "      <td>fear</td>\n",
       "    </tr>\n",
       "    <tr>\n",
       "      <th>26</th>\n",
       "      <td>walk home little glass figure maybe little fin...</td>\n",
       "      <td>fear</td>\n",
       "    </tr>\n",
       "    <tr>\n",
       "      <th>31</th>\n",
       "      <td>cat move one place another two somewhat awkwar...</td>\n",
       "      <td>happiness</td>\n",
       "    </tr>\n",
       "  </tbody>\n",
       "</table>\n",
       "</div>"
      ],
      "text/plain": [
       "                                       report_cleaned    emotion\n",
       "7   alone apartment old place inside build dark ma...       fear\n",
       "14  car people come downtown area place past lot t...  confusion\n",
       "18  deliver house sit car look strange dragonfly l...       fear\n",
       "26  walk home little glass figure maybe little fin...       fear\n",
       "31  cat move one place another two somewhat awkwar...  happiness"
      ]
     },
     "execution_count": 5,
     "metadata": {},
     "output_type": "execute_result"
    }
   ],
   "source": [
    "def to_emotion_class(emotion):\n",
    "    \n",
    "    if emotion == \"AP D\":\n",
    "        return \"fear\"\n",
    "    elif emotion == \"CO D\":\n",
    "        return \"confusion\"\n",
    "    elif emotion == \"SD D\":\n",
    "        return \"sadness\"\n",
    "    elif emotion == \"AN D\":\n",
    "        return \"anger\"\n",
    "    else:\n",
    "        return \"happiness\"\n",
    "\n",
    "df[\"emotion\"] = df[\"emotion\"].apply(lambda x: to_emotion_class(x))\n",
    "df.head()"
   ]
  },
  {
   "cell_type": "code",
   "execution_count": 6,
   "id": "3df000fd-33c6-4b49-b53c-c26a005dded3",
   "metadata": {},
   "outputs": [
    {
     "data": {
      "image/png": "[encoded data removed]",
      "text/plain": [
       "<Figure size 1000x600 with 1 Axes>"
      ]
     },
     "metadata": {},
     "output_type": "display_data"
    }
   ],
   "source": [
    "plt.figure(figsize=(10, 6))\n",
    "sns.countplot(x='emotion', data=df)\n",
    "\n",
    "plt.title('Distribution of emotions') \n",
    "plt.xlabel('Emotion')\n",
    "plt.ylabel('Count')\n",
    "plt.xticks(rotation=45)\n",
    "\n",
    "plt.show()"
   ]
  },
  {
   "cell_type": "markdown",
   "id": "c46e5ddf-c780-43e6-b5e0-a77d6a7f66c7",
   "metadata": {},
   "source": [
    "## Training and test sets"
   ]
  },
  {
   "cell_type": "code",
   "execution_count": 7,
   "id": "cdc43018-b3db-46f9-9a3d-1695a62307e1",
   "metadata": {
    "editable": true,
    "slideshow": {
     "slide_type": ""
    },
    "tags": []
   },
   "outputs": [],
   "source": [
    "X = df['report_cleaned']\n",
    "y = df['emotion']"
   ]
  },
  {
   "cell_type": "code",
   "execution_count": 8,
   "id": "144dcfd1-a7df-4a8c-a4b8-e1d301afa2a7",
   "metadata": {
    "editable": true,
    "slideshow": {
     "slide_type": ""
    },
    "tags": []
   },
   "outputs": [],
   "source": [
    "X_train, X_test, y_train, y_test = train_test_split(X, y, test_size=0.2, random_state=42)"
   ]
  },
  {
   "cell_type": "markdown",
   "id": "7ac26f4c-aaf1-4312-8420-b029d3925ab0",
   "metadata": {},
   "source": [
    "## Training: Bag of Words (CountVectorizer) and Logistic Regression"
   ]
  },
  {
   "cell_type": "markdown",
   "id": "70a1c46a-dc53-4bb1-bce5-d6464295ef08",
   "metadata": {},
   "source": [
    "Unigrams: All unique words in a document\n",
    "\n",
    "BiGrams: All permutations of two consecutive words in a document\n",
    "\n",
    "TriGrams: All permutations of three consecutive words in a document"
   ]
  },
  {
   "cell_type": "code",
   "execution_count": 9,
   "id": "3f3b13ac-1ff0-4fd7-af59-39884f7ad83e",
   "metadata": {},
   "outputs": [],
   "source": [
    "model = make_pipeline(CountVectorizer(), LogisticRegression())"
   ]
  },
  {
   "cell_type": "code",
   "execution_count": 10,
   "id": "fd8370cd-706b-46bb-9b23-f2837eaa64b7",
   "metadata": {
    "editable": true,
    "slideshow": {
     "slide_type": ""
    },
    "tags": []
   },
   "outputs": [
    {
     "name": "stdout",
     "output_type": "stream",
     "text": [
      "Features dimension: (4520, 16572)\n",
      "Classification Report:\n",
      "               precision    recall  f1-score   support\n",
      "\n",
      "       anger       0.73      0.64      0.68       158\n",
      "   confusion       0.69      0.65      0.67       221\n",
      "        fear       0.74      0.85      0.79       420\n",
      "   happiness       0.71      0.68      0.69       216\n",
      "     sadness       0.65      0.52      0.58       115\n",
      "\n",
      "    accuracy                           0.71      1130\n",
      "   macro avg       0.70      0.67      0.68      1130\n",
      "weighted avg       0.71      0.71      0.71      1130\n",
      "\n"
     ]
    },
    {
     "name": "stderr",
     "output_type": "stream",
     "text": [
      "/Users/davideposillipo/Documents/Lavoro/UNIPD_NLP_course_April25/repo2/NLP_UniPD/.venv/lib/python3.10/site-packages/sklearn/linear_model/_logistic.py:465: ConvergenceWarning: lbfgs failed to converge (status=1):\n",
      "STOP: TOTAL NO. of ITERATIONS REACHED LIMIT.\n",
      "\n",
      "Increase the number of iterations (max_iter) or scale the data as shown in:\n",
      "    https://scikit-learn.org/stable/modules/preprocessing.html\n",
      "Please also refer to the documentation for alternative solver options:\n",
      "    https://scikit-learn.org/stable/modules/linear_model.html#logistic-regression\n",
      "  n_iter_i = _check_optimize_result(\n"
     ]
    }
   ],
   "source": [
    "model.fit(X_train, y_train)\n",
    "\n",
    "y_pred = model.predict(X_test)\n",
    "\n",
    "print(f\"Features dimension: {len(X_train), len(model[0].vocabulary_)}\")\n",
    "print(\"Classification Report:\\n\", classification_report(y_test, y_pred))"
   ]
  },
  {
   "cell_type": "markdown",
   "id": "8a44084f-57db-4211-916e-07eab0d94b1a",
   "metadata": {},
   "source": [
    "## Plot confusion matrix"
   ]
  },
  {
   "cell_type": "code",
   "execution_count": 11,
   "id": "a56408c8-d136-426f-8eb9-4e8252e4eaa2",
   "metadata": {
    "editable": true,
    "slideshow": {
     "slide_type": ""
    },
    "tags": []
   },
   "outputs": [
    {
     "data": {
      "image/png": "[encoded data removed]",
      "text/plain": [
       "<Figure size 640x480 with 2 Axes>"
      ]
     },
     "metadata": {},
     "output_type": "display_data"
    }
   ],
   "source": [
    "cm = confusion_matrix(y_test, y_pred, labels=model.classes_)\n",
    "disp = ConfusionMatrixDisplay(confusion_matrix=cm,\n",
    "                               display_labels=model.classes_)\n",
    "disp.plot()\n",
    "plt.show()"
   ]
  },
  {
   "cell_type": "markdown",
   "id": "9d797733-4b11-4734-9caf-87841de10cbe",
   "metadata": {},
   "source": [
    "### Model variations"
   ]
  },
  {
   "cell_type": "markdown",
   "id": "2a046030-3ca5-4838-b836-b17fb1cd1322",
   "metadata": {},
   "source": [
    "UniGram +BiGram features. This time our Bag-of-Words algorithm also considers consecutive pairs of words in the dictionary along with unique words. "
   ]
  },
  {
   "cell_type": "code",
   "execution_count": null,
   "id": "bcdb7dfb-89ea-4847-b7cc-bd1e74da94de",
   "metadata": {},
   "outputs": [],
   "source": [
    "model_2 = make_pipeline(CountVectorizer(ngram_range=(1,2)), LogisticRegression())"
   ]
  },
  {
   "cell_type": "code",
   "execution_count": null,
   "id": "88856a09-241e-4241-86cd-6d25d019d2c0",
   "metadata": {},
   "outputs": [],
   "source": [
    "model_2.fit(X_train, y_train)\n",
    "\n",
    "y_pred_2 = model_2.predict(X_test)\n",
    "\n",
    "print(f\"Features dimension: {len(X_train), len(model_2[0].vocabulary_)}\")\n",
    "print(\"Classification Report:\\n\", classification_report(y_test, y_pred_2))"
   ]
  },
  {
   "cell_type": "markdown",
   "id": "c2df5034-7f1e-480b-9483-6b393bc33663",
   "metadata": {},
   "source": [
    "Adding Tri-Gram features also into our feature set. This time we also consider three consecutive word permutations also into our vocabulary"
   ]
  },
  {
   "cell_type": "code",
   "execution_count": null,
   "id": "d9a80a1e-b448-4d16-b951-6e1dd1bff95e",
   "metadata": {},
   "outputs": [],
   "source": [
    "model_3 = make_pipeline(CountVectorizer(ngram_range=(1,3)), LogisticRegression())"
   ]
  },
  {
   "cell_type": "code",
   "execution_count": null,
   "id": "43b1c7c3-b599-402e-b3ee-424516e7ef0a",
   "metadata": {},
   "outputs": [],
   "source": [
    "model_3.fit(X_train, y_train)\n",
    "\n",
    "y_pred_3 = model_3.predict(X_test)\n",
    "\n",
    "print(f\"Features dimension: {len(X_train), len(model_3[0].vocabulary_)}\")\n",
    "print(\"Classification Report:\\n\", classification_report(y_test, y_pred_3))"
   ]
  },
  {
   "cell_type": "code",
   "execution_count": null,
   "id": "a8f6335e-7853-49af-9cbe-a2307745db44",
   "metadata": {},
   "outputs": [],
   "source": []
  }
 ],
 "metadata": {
  "kernelspec": {
   "display_name": "Python 3 (ipykernel)",
   "language": "python",
   "name": "python3"
  },
  "language_info": {
   "codemirror_mode": {
    "name": "ipython",
    "version": 3
   },
   "file_extension": ".py",
   "mimetype": "text/x-python",
   "name": "python",
   "nbconvert_exporter": "python",
   "pygments_lexer": "ipython3",
   "version": "3.10.9"
  }
 },
 "nbformat": 4,
 "nbformat_minor": 5
}
