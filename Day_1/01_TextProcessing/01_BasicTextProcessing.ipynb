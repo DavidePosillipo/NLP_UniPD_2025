{
 "cells": [
  {
   "cell_type": "markdown",
   "metadata": {},
   "source": [
    "# Basic Text Processing"
   ]
  },
  {
   "cell_type": "code",
   "execution_count": 1,
   "metadata": {},
   "outputs": [
    {
     "name": "stderr",
     "output_type": "stream",
     "text": [
      "[nltk_data] Downloading package stopwords to\n",
      "[nltk_data]     /Users/davideposillipo/nltk_data...\n",
      "[nltk_data]   Package stopwords is already up-to-date!\n",
      "[nltk_data] Downloading package wordnet to\n",
      "[nltk_data]     /Users/davideposillipo/nltk_data...\n",
      "[nltk_data]   Package wordnet is already up-to-date!\n",
      "[nltk_data] Downloading package averaged_perceptron_tagger to\n",
      "[nltk_data]     /Users/davideposillipo/nltk_data...\n",
      "[nltk_data]   Package averaged_perceptron_tagger is already up-to-\n",
      "[nltk_data]       date!\n",
      "[nltk_data] Downloading package punkt to\n",
      "[nltk_data]     /Users/davideposillipo/nltk_data...\n",
      "[nltk_data]   Package punkt is already up-to-date!\n"
     ]
    },
    {
     "data": {
      "text/plain": [
       "True"
      ]
     },
     "execution_count": 1,
     "metadata": {},
     "output_type": "execute_result"
    }
   ],
   "source": [
    "import nltk\n",
    "nltk.download('stopwords')\n",
    "nltk.download('wordnet')\n",
    "nltk.download('averaged_perceptron_tagger')\n",
    "nltk.download('punkt')"
   ]
  },
  {
   "cell_type": "code",
   "execution_count": 2,
   "metadata": {},
   "outputs": [],
   "source": [
    "from nltk import word_tokenize, pos_tag\n",
    "from nltk.tokenize import RegexpTokenizer\n",
    "from nltk.stem import WordNetLemmatizer\n",
    "from nltk.corpus import stopwords\n",
    "from nltk.corpus import wordnet as wn\n",
    "\n",
    "import pandas as pd"
   ]
  },
  {
   "cell_type": "code",
   "execution_count": 3,
   "metadata": {},
   "outputs": [],
   "source": [
    "df = pd.read_pickle(\"../../data/dreams_annotated.pkl\")\n",
    "#df = df.sample(frac = 1)\n",
    "df[\"report\"] = df[\"report\"].astype(str)"
   ]
  },
  {
   "cell_type": "code",
   "execution_count": null,
   "metadata": {},
   "outputs": [],
   "source": []
  },
  {
   "cell_type": "code",
   "execution_count": null,
   "metadata": {},
   "outputs": [],
   "source": [
    "dream = df[\"report\"].iloc[0]"
   ]
  },
  {
   "cell_type": "code",
   "execution_count": null,
   "metadata": {},
   "outputs": [],
   "source": [
    "dream"
   ]
  },
  {
   "cell_type": "code",
   "execution_count": null,
   "metadata": {},
   "outputs": [],
   "source": [
    "# lowcase and Tokenize the article: tokens\n",
    "lower_tokens = word_tokenize(dream.lower())"
   ]
  },
  {
   "cell_type": "code",
   "execution_count": null,
   "metadata": {},
   "outputs": [],
   "source": [
    "print(lower_tokens)"
   ]
  },
  {
   "cell_type": "code",
   "execution_count": null,
   "metadata": {},
   "outputs": [],
   "source": [
    "# Import WordNetLemmatizer\n",
    "from nltk.stem import WordNetLemmatizer\n",
    "from nltk.corpus import stopwords\n",
    "nltk_stopw =stopwords.words('english') \n",
    "\n",
    "# Retain alphabetic words: alpha_only \n",
    "alpha_only = [t for t in lower_tokens if t.isalpha()]\n",
    "print('alpha_only\\n',alpha_only,'\\n')\n",
    "\n",
    "# Remove all stop words: no_stops\n",
    "no_stops = [t for t in alpha_only if t not in nltk_stopw]\n",
    "print('no_stops\\n',no_stops,'\\n')\n",
    "\n",
    "# Instantiate the WordNetLemmatizer\n",
    "wordnet_lemmatizer = WordNetLemmatizer()\n",
    "# Lemmatize all tokens into a new list: lemmatized\n",
    "lemmatized = [wordnet_lemmatizer.lemmatize(t) for t in no_stops] \n",
    "print('lemmatized\\n',lemmatized,'\\n')\n"
   ]
  },
  {
   "cell_type": "markdown",
   "metadata": {},
   "source": [
    "## NLTK lemmatizer"
   ]
  },
  {
   "cell_type": "code",
   "execution_count": null,
   "metadata": {},
   "outputs": [],
   "source": [
    "lista = ['coming','are','usefulness','better','worst','cars']\n",
    "wordnet_lemmatizer = WordNetLemmatizer()\n",
    "lista_lemm = [wordnet_lemmatizer.lemmatize(l) for l in lista]\n",
    "print(lista_lemm) # notice it doesn't do much\n",
    "\n",
    "# POS (part of speech) tagging is required to improve performances\n",
    "from nltk.corpus import wordnet as wn\n",
    "# wordnet pos\n",
    "#wn.ADJ --> 'a'\n",
    "#wn.VERB --> 'v'\n",
    "#wn.NOUN --> 'n'\n",
    "#wn.ADV --> 'r'\n",
    "# without pos\n",
    "print( wordnet_lemmatizer.lemmatize('worst') )\n",
    "# with pos\n",
    "print( wordnet_lemmatizer.lemmatize('worst','a') )\n",
    "\n",
    "# without pos\n",
    "print( wordnet_lemmatizer.lemmatize('walking') )\n",
    "# with pos\n",
    "print( wordnet_lemmatizer.lemmatize('walking','v') )\n",
    "\n",
    "# without pos\n",
    "print( wordnet_lemmatizer.lemmatize('feet') ) # funziona già perché il default è 'n'\n",
    "# with pos\n",
    "print( wordnet_lemmatizer.lemmatize('feet','n') )"
   ]
  },
  {
   "cell_type": "code",
   "execution_count": null,
   "metadata": {},
   "outputs": [],
   "source": [
    "print( wordnet_lemmatizer.lemmatize('seriously','a') )"
   ]
  },
  {
   "cell_type": "code",
   "execution_count": null,
   "metadata": {},
   "outputs": [],
   "source": [
    "# nltk.pos_tag(): find a pos for every word\n",
    "\n",
    "no_stops = ['cars','are','quite','worst'] # comment here if you prefer to use the data from above\n",
    "print( pos_tag(no_stops) ) \n",
    "\n",
    "# NOTE:\n",
    "# pos does not follow the 'a','v','n','r' notaion --> lemmatize \n",
    "# we need to match the 'a','v','n','r' notation\n",
    "\n",
    "# this function matches the pos_tag() pos to the wordnet pos used by lemmatize()\n",
    "def get_pos(pos):\n",
    "    if pos.startswith('J'):\n",
    "        return 'a' # o wordnet.ADJ\n",
    "    elif pos.startswith('V'):\n",
    "        return 'v' # o wordnet.VERB\n",
    "    elif pos.startswith('N'):\n",
    "        return 'n' # o wordnet.NOUN\n",
    "    elif pos.startswith('R'):\n",
    "        return 'r' # o wordnet.ADV\n",
    "    else:          \n",
    "        return 'n' # default  \n",
    "        \n",
    "no_stops_with_pos = pos_tag(no_stops)\n",
    "no_stops_with_pos_ok = list(map(lambda x: ( x[0],get_pos(x[1]) ) , no_stops_with_pos))\n",
    "print(no_stops_with_pos_ok,'\\n')\n",
    "\n",
    "# finally lemmatize\n",
    "wordnet_lemmatizer = WordNetLemmatizer()\n",
    "lemmatized = [wordnet_lemmatizer.lemmatize(w,p) for w,p in no_stops_with_pos_ok] \n",
    "print('original\\n',no_stops,'\\n')\n",
    "print('lemmatized\\n',lemmatized,'\\n')"
   ]
  },
  {
   "cell_type": "markdown",
   "metadata": {},
   "source": [
    "### A custom tokenizer"
   ]
  },
  {
   "cell_type": "code",
   "execution_count": null,
   "metadata": {},
   "outputs": [],
   "source": [
    "# given a tokenized document we create a function to lemmatize the doc\n",
    "\n",
    "no_stops = ['cars','are','quite','worst']\n",
    "def get_pos(pos):\n",
    "    if pos.startswith('J'):\n",
    "        return 'a' # o wordnet.ADJ\n",
    "    elif pos.startswith('V'):\n",
    "        return 'v'\n",
    "    elif pos.startswith('N'):\n",
    "        return 'n'\n",
    "    elif pos.startswith('R'):\n",
    "        return 'r'\n",
    "    else:          \n",
    "        return 'n' # 'n' is the deafault for the lemmatize method \n",
    "        \n",
    "def lemmatize(tokenized_doc):\n",
    "    # match a pos to every token\n",
    "    tokenized_doc_with_pos = pos_tag(tokenized_doc)\n",
    "    \n",
    "    # ensure NLTK can read the pos, create the touple (token, token_pos)\n",
    "    tokenized_doc_with_pos_ok = list(map(lambda x: ( x[0],get_pos(x[1]) ) , tokenized_doc_with_pos))\n",
    "\n",
    "    # finally lemmatize\n",
    "    wordnet_lemmatizer = WordNetLemmatizer()\n",
    "    lemmatized = [wordnet_lemmatizer.lemmatize(w,p) for w,p in tokenized_doc_with_pos_ok]   \n",
    "    return lemmatized\n",
    "\n",
    "lemmatize(no_stops)\n",
    "    "
   ]
  },
  {
   "cell_type": "code",
   "execution_count": null,
   "metadata": {},
   "outputs": [],
   "source": [
    "RegexpTokenizer(r'\\b[a-zA-Z][a-zA-Z0-9]{2,14}\\b').tokenize(dream)"
   ]
  },
  {
   "cell_type": "markdown",
   "metadata": {},
   "source": [
    "## Preprocessing pipeline"
   ]
  },
  {
   "cell_type": "code",
   "execution_count": null,
   "metadata": {},
   "outputs": [],
   "source": [
    "def get_pos(pos):\n",
    "    '''\n",
    "    Convert nltk.pos_tag() tags  so that they can be understood by pos tags by nltk.WordNetLemmatizer()\n",
    "    '''\n",
    "    if pos.startswith('J'):\n",
    "        return 'a' # o wordnet.ADJ\n",
    "    elif pos.startswith('V'):\n",
    "        return 'v' # o wordnet.VERB\n",
    "    elif pos.startswith('N'):\n",
    "        return 'n' # o wordnet.NOUN\n",
    "    elif pos.startswith('R'):\n",
    "        return 'r' # o wordnet.ADV\n",
    "    else:          \n",
    "        return 'n' # default \n",
    "\n",
    "def txt_preprocessing(X, printa=False):\n",
    "    i = 0 #text to print\n",
    "    #lowcase\n",
    "    X = [x.lower() for x in X]\n",
    "    if printa: print(X[i],'\\n')\n",
    "\n",
    "    # tokenize: token are made of strings or of alphanumerical strings; punctuaction and special chars are excluded.\n",
    "    # token with <=2 or >14 chars are removed\n",
    "    X = [RegexpTokenizer(r'\\b[a-zA-Z][a-zA-Z0-9]{2,14}\\b').tokenize(x) for x in X] # or [re.findall(r'\\b[a-zA-Z][a-zA-Z0-9]{2,14}\\b',x) for x in X]\n",
    "    if printa: print(X[i],'\\n')\n",
    "\n",
    "    #remove stop words\n",
    "    X = [(lambda x: [x_i for x_i in x if x_i not in nltk_stopw])(x) for x in X] # alternatively list(map(lambda x: ([x_i for x_i in x if x_i not in nltk_stopw]),X))\n",
    "    if printa: print(X[i],'\\n')\n",
    "\n",
    "    # lemmatization using POS\n",
    "    X = [pos_tag(x) for x in X]\n",
    "    if printa: print(X[i],'\\n')\n",
    "\n",
    "    # map POS tags to work with nltk.WordNetLemmatizer()\n",
    "    X = [ (lambda x: [(x_i[0],get_pos(x_i[1])) for x_i in x])(x) for x in X]\n",
    "    if printa: print(X[i],'\\n')\n",
    "\n",
    "    # lemmatize\n",
    "    X = [(lambda x: [WordNetLemmatizer().lemmatize(w,p) for w,p in x])(x) for x in X]\n",
    "    if printa: print(X[i],'\\n')\n",
    "\n",
    "    # reshape as a list of sentences: [['this','is','string','1'], ['this','is','string','2']...] --> ['this is string 1','this is string 2'...]\n",
    "    X = [\" \".join(x) for x in X]\n",
    "    if printa: print(X[i])\n",
    "\n",
    "    return X"
   ]
  },
  {
   "cell_type": "code",
   "execution_count": null,
   "metadata": {},
   "outputs": [],
   "source": [
    "txt_preprocessing([dream], printa=True)"
   ]
  },
  {
   "cell_type": "markdown",
   "metadata": {},
   "source": [
    "#### Applying pipeline to dataset"
   ]
  },
  {
   "cell_type": "code",
   "execution_count": null,
   "metadata": {},
   "outputs": [],
   "source": [
    "# It takes a while...\n",
    "df[\"report_cleaned\"] = df[\"report\"].apply(lambda x: txt_preprocessing([x]))"
   ]
  },
  {
   "cell_type": "code",
   "execution_count": null,
   "metadata": {},
   "outputs": [],
   "source": [
    "df.to_pickle(\"../../data/dreams_annotated_cleaned.pkl\")"
   ]
  }
 ],
 "metadata": {
  "kernelspec": {
   "display_name": "Python 3 (ipykernel)",
   "language": "python",
   "name": "python3"
  },
  "language_info": {
   "codemirror_mode": {
    "name": "ipython",
    "version": 3
   },
   "file_extension": ".py",
   "mimetype": "text/x-python",
   "name": "python",
   "nbconvert_exporter": "python",
   "pygments_lexer": "ipython3",
   "version": "3.10.9"
  },
  "vscode": {
   "interpreter": {
    "hash": "8e18c37fd15a1974bcbd8e3537474f367f1f4a053e6ef9eedc221dd433503edc"
   }
  }
 },
 "nbformat": 4,
 "nbformat_minor": 4
}
