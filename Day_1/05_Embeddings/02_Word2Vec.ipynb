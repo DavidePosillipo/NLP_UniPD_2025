{
 "cells": [
  {
   "cell_type": "markdown",
   "id": "0b4baedb-47e7-4dab-8bab-5408a0cf1cd0",
   "metadata": {},
   "source": [
    "# Word2Vec"
   ]
  },
  {
   "cell_type": "code",
   "execution_count": null,
   "id": "7e75175d-614e-41aa-843e-7acebe8eb635",
   "metadata": {
    "editable": true,
    "slideshow": {
     "slide_type": ""
    },
    "tags": []
   },
   "outputs": [],
   "source": [
    "import gensim \n",
    "import gensim.downloader as api\n",
    "import pandas as pd\n",
    "import numpy as np\n",
    "from nltk.tokenize import word_tokenize"
   ]
  },
  {
   "cell_type": "code",
   "execution_count": null,
   "id": "8b5a955e-10a9-4c95-9c43-12bfef7987fd",
   "metadata": {
    "editable": true,
    "slideshow": {
     "slide_type": ""
    },
    "tags": []
   },
   "outputs": [],
   "source": [
    "df = pd.read_pickle(\"../../data/dreams_annotated_cleaned.pkl\")\n",
    "df = df.sample(frac = 0.5)\n",
    "df[\"report_cleaned\"] = df[\"report_cleaned\"].apply(lambda x: x[0])"
   ]
  },
  {
   "cell_type": "markdown",
   "id": "60efb56d-93c2-4caf-9595-e9cd50c7e67e",
   "metadata": {},
   "source": [
    "## Training your own model\n",
    "\n",
    "https://radimrehurek.com/gensim/models/word2vec.html\n",
    "\n",
    "Almost from scratch, here: https://github.com/dcavar/python-tutorial-notebooks/blob/master/notebooks/Word2Vec.ipynb"
   ]
  },
  {
   "cell_type": "code",
   "execution_count": null,
   "id": "4b081b8b-a9c4-4c1f-b29d-d06324940cf4",
   "metadata": {},
   "outputs": [],
   "source": [
    "documents = [word_tokenize(x) for x in df[\"report_cleaned\"]]"
   ]
  },
  {
   "cell_type": "code",
   "execution_count": null,
   "id": "172038ce-25e7-4a47-9eda-97f2d6720339",
   "metadata": {},
   "outputs": [],
   "source": [
    "model = gensim.models.Word2Vec(documents, vector_size=150, window=10, min_count=2, workers=10)\n",
    "model.train(documents,total_examples=len(documents),epochs=10)"
   ]
  },
  {
   "cell_type": "code",
   "execution_count": null,
   "id": "926974f2-82c1-44da-9608-8f88407a1325",
   "metadata": {},
   "outputs": [],
   "source": [
    "model.save(\"custom_word2vec.model\")"
   ]
  },
  {
   "cell_type": "code",
   "execution_count": null,
   "id": "9d3a0bd9-ae73-43a6-ad8a-4184ba171b3f",
   "metadata": {},
   "outputs": [],
   "source": [
    "w1 = \"dream\"\n",
    "model.wv.most_similar(positive=w1)"
   ]
  },
  {
   "cell_type": "code",
   "execution_count": null,
   "id": "08ef757a-cc3c-4153-abc0-c6fdc43d9fad",
   "metadata": {},
   "outputs": [],
   "source": [
    "# similarity between two different words\n",
    "model.wv.similarity(w1=\"dream\", w2=\"lucid\")"
   ]
  },
  {
   "cell_type": "code",
   "execution_count": null,
   "id": "546b9ac4-bbde-4b3c-a8bc-9b82a348e290",
   "metadata": {},
   "outputs": [],
   "source": [
    "# similarity between the same word\n",
    "model.wv.similarity(w1=\"dirty\", w2=\"dirty\")"
   ]
  },
  {
   "cell_type": "markdown",
   "id": "94d13e5e-9453-4f21-a82f-2761a7a5cd9b",
   "metadata": {},
   "source": [
    "## Using pre-trained embeddings"
   ]
  },
  {
   "cell_type": "markdown",
   "id": "d6296fc8-edac-43c5-b83a-c4c87a85f468",
   "metadata": {},
   "source": [
    "https://huggingface.co/fse/word2vec-google-news-300\n",
    "\n",
    "https://github.com/piskvorky/gensim-data\n",
    "\n",
    "https://radimrehurek.com/gensim/auto_examples/tutorials/run_word2vec.html"
   ]
  },
  {
   "cell_type": "code",
   "execution_count": null,
   "id": "3201b8c3-b635-4297-b151-4e808a47f54b",
   "metadata": {
    "editable": true,
    "scrolled": true,
    "slideshow": {
     "slide_type": ""
    },
    "tags": []
   },
   "outputs": [],
   "source": [
    "w2v = api.load('word2vec-google-news-300')"
   ]
  },
  {
   "cell_type": "code",
   "execution_count": null,
   "id": "c69d2b9e-1918-4209-bc0f-b908d292d0ab",
   "metadata": {},
   "outputs": [],
   "source": [
    "w2v.most_similar(positive=['woman', 'king'], negative=['man'], topn=1)"
   ]
  },
  {
   "cell_type": "code",
   "execution_count": null,
   "id": "4329e964-36b6-4880-b4d0-b4eb5d23585e",
   "metadata": {},
   "outputs": [],
   "source": [
    "w2v.doesnt_match(\"breakfast cereal dinner lunch\".split())"
   ]
  },
  {
   "cell_type": "code",
   "execution_count": null,
   "id": "eafb2089-302a-4d43-ae4f-563c9c83e2b6",
   "metadata": {},
   "outputs": [],
   "source": [
    "w2v.similarity('woman', 'man')"
   ]
  },
  {
   "cell_type": "code",
   "execution_count": null,
   "id": "674f1878-3495-45e6-9db9-e41bc792af0f",
   "metadata": {},
   "outputs": [],
   "source": [
    "w1 = \"dream\"\n",
    "w2v.most_similar(positive=w1)"
   ]
  },
  {
   "cell_type": "code",
   "execution_count": null,
   "id": "2aabc4a9-623c-446d-a685-28e853ae889a",
   "metadata": {},
   "outputs": [],
   "source": [
    "# similarity between two different words\n",
    "w2v.similarity(w1=\"dream\", w2=\"lucid\")"
   ]
  },
  {
   "cell_type": "markdown",
   "id": "f19f2f8b-76d6-4edc-949c-f4f678c22250",
   "metadata": {
    "editable": true,
    "slideshow": {
     "slide_type": ""
    },
    "tags": []
   },
   "source": [
    "### From word to docs\n",
    "\n",
    "https://github.com/sdimi/average-word2vec/blob/master/notebook.ipynb"
   ]
  },
  {
   "cell_type": "code",
   "execution_count": null,
   "id": "eb3c9c15-6b6f-47c2-8618-4b5c0955c4d6",
   "metadata": {
    "editable": true,
    "slideshow": {
     "slide_type": ""
    },
    "tags": []
   },
   "outputs": [],
   "source": [
    "def document_vector(word2vec_model, doc):\n",
    "    # remove out-of-vocabulary words\n",
    "    doc = [word for word in doc if word in list(model.wv.key_to_index.keys())]\n",
    "    return np.mean(word2vec_model[doc], axis=0)"
   ]
  },
  {
   "cell_type": "code",
   "execution_count": null,
   "id": "d443f223-4ca7-481a-b24f-681a1075c03e",
   "metadata": {
    "editable": true,
    "slideshow": {
     "slide_type": ""
    },
    "tags": []
   },
   "outputs": [],
   "source": [
    "df[\"report_cleaned\"][1]"
   ]
  },
  {
   "cell_type": "code",
   "execution_count": null,
   "id": "0121d6f2-cb3a-461a-bd31-a2cef01b53bb",
   "metadata": {},
   "outputs": [],
   "source": [
    "document_vector(w2v, df[\"report_cleaned\"][1])"
   ]
  },
  {
   "cell_type": "code",
   "execution_count": null,
   "id": "8ee35e86-0220-472e-9adc-b78ca9c7d2f7",
   "metadata": {},
   "outputs": [],
   "source": [
    "document_vector(w2v, df[\"report_cleaned\"][1]).shape"
   ]
  },
  {
   "cell_type": "markdown",
   "id": "5155963a-4d24-4bf4-88d9-4395239d5038",
   "metadata": {},
   "source": [
    "### Exercise\n",
    "\n",
    "Use the doc embedding representation to train a classification model for the annotated dream dataset, and compare the results w.r.t the previous approaches. \n",
    "\n",
    "(es. https://www.kaggle.com/code/ananyabioinfo/text-classification-using-word2vec)"
   ]
  },
  {
   "cell_type": "code",
   "execution_count": null,
   "id": "84eb4ea2-d62c-4534-887d-3c6373166f7a",
   "metadata": {
    "editable": true,
    "slideshow": {
     "slide_type": ""
    },
    "tags": []
   },
   "outputs": [],
   "source": []
  }
 ],
 "metadata": {
  "kernelspec": {
   "display_name": "Python 3 (ipykernel)",
   "language": "python",
   "name": "python3"
  },
  "language_info": {
   "codemirror_mode": {
    "name": "ipython",
    "version": 3
   },
   "file_extension": ".py",
   "mimetype": "text/x-python",
   "name": "python",
   "nbconvert_exporter": "python",
   "pygments_lexer": "ipython3",
   "version": "3.10.9"
  }
 },
 "nbformat": 4,
 "nbformat_minor": 5
}
