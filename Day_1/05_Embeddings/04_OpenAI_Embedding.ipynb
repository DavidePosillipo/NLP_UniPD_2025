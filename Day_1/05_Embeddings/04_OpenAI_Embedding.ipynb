{
 "cells": [
  {
   "cell_type": "markdown",
   "id": "0e162a74",
   "metadata": {},
   "source": [
    "# Sentence Embedding with OpenAI API\n",
    "\n",
    "To get an embedding, send your text string to the embeddings API endpoint along with a choice of embedding model ID (e.g., text-embedding-ada-002).  \n",
    "source: https://platform.openai.com/docs/guides/embeddings/what-are-embeddings <br>  \n",
    "Sample response:  \n",
    "<code>\n",
    "    {\n",
    "  \"data\": [\n",
    "    {\n",
    "      \"embedding\": [\n",
    "        -0.006929283495992422,\n",
    "        -0.005336422007530928,\n",
    "        ...\n",
    "        -4.547132266452536e-05,\n",
    "        -0.024047505110502243\n",
    "      ],\n",
    "      \"index\": 0,\n",
    "      \"object\": \"embedding\"\n",
    "    }\n",
    "  ],\n",
    "  \"model\": \"text-embedding-ada-002\",\n",
    "  \"object\": \"list\",\n",
    "  \"usage\": {\n",
    "    \"prompt_tokens\": 5,\n",
    "    \"total_tokens\": 5\n",
    "  }\n",
    "}\n",
    "</code>"
   ]
  },
  {
   "cell_type": "markdown",
   "id": "674175e7",
   "metadata": {},
   "source": [
    "#### Load the API key\n",
    "\n",
    "Use <b>python-dotenv</b> library and store the key in a <b>.env</b> file.  \n",
    "Do not hard code the key or you might end up loading it to shared repositories."
   ]
  },
  {
   "cell_type": "code",
   "execution_count": null,
   "id": "d35bb55c",
   "metadata": {},
   "outputs": [],
   "source": [
    "import os\n",
    "from dotenv import load_dotenv\n",
    "import numpy as np\n",
    "\n",
    "load_dotenv()\n",
    "\n",
    "# if version of openai < 1.0 use the following 2 lines of code\n",
    "#import openai\n",
    "#openai.api_key = os.getenv(\"OPENAI_API_KEY\")\n",
    "from openai import OpenAI\n",
    "client = OpenAI()"
   ]
  },
  {
   "cell_type": "markdown",
   "id": "fd9d8063",
   "metadata": {},
   "source": [
    "#### Core Function\n",
    "\n",
    "The <i>get_embedding</i> function manages the API response.  \n",
    "It accesses the embedding json field."
   ]
  },
  {
   "cell_type": "code",
   "execution_count": null,
   "id": "f350ed0f",
   "metadata": {},
   "outputs": [],
   "source": [
    "def get_embedding(text, model=\"text-embedding-ada-002\"):\n",
    "    text = text.replace(\"\\n\", \" \")\n",
    "    #return openai.Embedding.create(input = [text], model=model)['data'][0]['embedding']\n",
    "    return client.embeddings.create(input = [text], model=model).data[0].embedding\n",
    "\n",
    "embedded_sentence = get_embedding(\"Embed this sentence please\")\n",
    "\n",
    "print(len(embedded_sentence))"
   ]
  },
  {
   "cell_type": "markdown",
   "id": "5f5ea59d",
   "metadata": {},
   "source": [
    "#### Usage Example\n",
    "\n",
    "Distance with <i>np.linalg.norm</i> to compute the distance between two vectors.\n",
    "\n"
   ]
  },
  {
   "cell_type": "code",
   "execution_count": null,
   "id": "c7fdf77d",
   "metadata": {},
   "outputs": [],
   "source": [
    "new_query = 'information retrieval is about extracting relevant'\\\n",
    "            ' content from documents'\n",
    "target_embedded = get_embedding(new_query)\n",
    "print(new_query)\n",
    "print(np.array(target_embedded).shape)"
   ]
  },
  {
   "cell_type": "code",
   "execution_count": null,
   "id": "2d65fe90",
   "metadata": {},
   "outputs": [],
   "source": [
    "queries = ['the car is on the table',\n",
    "         'to assign a label to a document, you analize it through text classification',\n",
    "         'when a user asks something the virutal assistant replies',\n",
    "         'superman is the hero I consider to be the greatest',\n",
    "         'are you hungry?',\n",
    "         'analyze a document and get the content you are looking for. this is the action of retrieving information',\n",
    "         'neuron',\n",
    "         'information retrieval is about extracting relevant' +\n",
    "         ' content from documents']"
   ]
  },
  {
   "cell_type": "code",
   "execution_count": null,
   "id": "6ff28c8b",
   "metadata": {},
   "outputs": [],
   "source": [
    "print('np.linalg.norm')\n",
    "print()\n",
    "euclidean_distances = []\n",
    "for q in queries:\n",
    "    query_embedded = get_embedding(q)\n",
    "    dist = np.linalg.norm(np.array(target_embedded)\n",
    "                          - np.array(query_embedded)) # euclidean distance\n",
    "    euclidean_distances.append(dist)\n",
    "    print(q)\n",
    "    print(float(dist))\n",
    "    print()"
   ]
  },
  {
   "cell_type": "code",
   "execution_count": null,
   "id": "ff254976",
   "metadata": {},
   "outputs": [],
   "source": [
    "print('cosine similarity')\n",
    "print()\n",
    "cosine_similarities = []\n",
    "for q in queries:\n",
    "    query_embedded = get_embedding(q)\n",
    "    cosine_similarity = np.dot(target_embedded, query_embedded)/(np.linalg.norm(target_embedded)*np.linalg.norm(query_embedded))\n",
    "    cosine_similarities.append(cosine_similarity)\n",
    "    print(q)\n",
    "    print(float(cosine_similarity))\n",
    "    print(\"\\u03F4 = {0:0.1f}° \".format(np.arccos(cosine_similarity)*180/np.pi))\n",
    "    print()"
   ]
  },
  {
   "cell_type": "code",
   "execution_count": null,
   "id": "407a2e5e",
   "metadata": {},
   "outputs": [],
   "source": []
  }
 ],
 "metadata": {
  "kernelspec": {
   "display_name": "Python 3 (ipykernel)",
   "language": "python",
   "name": "python3"
  },
  "language_info": {
   "codemirror_mode": {
    "name": "ipython",
    "version": 3
   },
   "file_extension": ".py",
   "mimetype": "text/x-python",
   "name": "python",
   "nbconvert_exporter": "python",
   "pygments_lexer": "ipython3",
   "version": "3.10.9"
  }
 },
 "nbformat": 4,
 "nbformat_minor": 5
}
