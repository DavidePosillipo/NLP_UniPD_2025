{
 "cells": [
  {
   "cell_type": "code",
   "execution_count": null,
   "id": "a8308644-568e-46b7-bb58-9f22aed62b6e",
   "metadata": {
    "editable": true,
    "slideshow": {
     "slide_type": ""
    },
    "tags": []
   },
   "outputs": [],
   "source": [
    "import pandas as pd\n",
    "import numpy as np\n",
    "from nltk import word_tokenize\n",
    "from nltk import pos_tag\n",
    "from nltk.corpus import stopwords\n",
    "from nltk.tokenize import RegexpTokenizer\n",
    "\n",
    "nltk_stopw = stopwords.words('english')"
   ]
  },
  {
   "cell_type": "code",
   "execution_count": null,
   "id": "2deb320a-def5-4cc2-a099-1483e15354cb",
   "metadata": {},
   "outputs": [],
   "source": [
    "df = pd.read_pickle(\"../../data/dreams_annotated_cleaned.pkl\")\n",
    "df[\"report_cleaned\"] = df[\"report_cleaned\"].apply(lambda x: x[0])\n"
   ]
  },
  {
   "cell_type": "code",
   "execution_count": null,
   "id": "ac3b0c6b-4ad1-47a6-aef9-2cf20960f848",
   "metadata": {},
   "outputs": [],
   "source": [
    "a_dream_processed = df[\"report_cleaned\"].iloc[0]"
   ]
  },
  {
   "cell_type": "code",
   "execution_count": null,
   "id": "62c4b617-03ce-4d9a-a13f-d347a2b9bea4",
   "metadata": {},
   "outputs": [],
   "source": [
    "a_dream_processed"
   ]
  },
  {
   "cell_type": "markdown",
   "id": "f253cf86-338a-49c5-a259-bc2010fa363a",
   "metadata": {},
   "source": [
    "### Python native implementation (Counter)"
   ]
  },
  {
   "cell_type": "code",
   "execution_count": null,
   "id": "63a735d8-61a8-46f0-b02b-2bf713a62ef5",
   "metadata": {},
   "outputs": [],
   "source": [
    "from collections import Counter"
   ]
  },
  {
   "cell_type": "code",
   "execution_count": null,
   "id": "6233efe4-5c8d-4f0a-b5b1-7c84385ec4b8",
   "metadata": {},
   "outputs": [],
   "source": [
    "bow_simple = Counter(a_dream_processed.split()) \n",
    "print(bow_simple,'\\n')\n",
    "\n",
    "# Print the 5 most common tokens\n",
    "print(bow_simple.most_common(5))"
   ]
  },
  {
   "cell_type": "markdown",
   "id": "5a7a8c7d-9dda-4139-8080-5c1345d07a5a",
   "metadata": {},
   "source": [
    "### Sklearn implementation (CountVectorizer)"
   ]
  },
  {
   "cell_type": "code",
   "execution_count": null,
   "id": "ea970612-c866-4e11-be83-2850d09d55b5",
   "metadata": {},
   "outputs": [],
   "source": [
    "from sklearn.feature_extraction.text import CountVectorizer"
   ]
  },
  {
   "cell_type": "code",
   "execution_count": null,
   "id": "75c29a5f-4d87-42ee-b84d-59791526b884",
   "metadata": {},
   "outputs": [],
   "source": [
    "bow_model = CountVectorizer()"
   ]
  },
  {
   "cell_type": "code",
   "execution_count": null,
   "id": "79846be3-0120-4fbe-9f2d-be5ebad8a93d",
   "metadata": {},
   "outputs": [],
   "source": [
    "dream_bow = bow_model.fit_transform([a_dream_processed])"
   ]
  },
  {
   "cell_type": "code",
   "execution_count": null,
   "id": "725484d4-7bed-41ad-919a-642a13971bb4",
   "metadata": {},
   "outputs": [],
   "source": [
    "bow_df = pd.DataFrame(dream_bow.todense(), columns=bow_model.get_feature_names_out())\n",
    "bow_df.to_dict(orient=\"records\")"
   ]
  },
  {
   "cell_type": "code",
   "execution_count": null,
   "id": "dc29e405-e488-4f2d-a854-2ee17bee1876",
   "metadata": {},
   "outputs": [],
   "source": [
    "all_dreams_bow = bow_model.fit_transform(df[\"report_cleaned\"])"
   ]
  },
  {
   "cell_type": "code",
   "execution_count": null,
   "id": "b4d12369-9b02-4ce5-966f-738d8583d4b1",
   "metadata": {},
   "outputs": [],
   "source": [
    "bow_df_all = pd.DataFrame(all_dreams_bow.todense(), columns=bow_model.get_feature_names_out())\n",
    "bow_df_all"
   ]
  },
  {
   "cell_type": "code",
   "execution_count": null,
   "id": "c78a71c4-0874-4e65-b3f8-ec11107280fc",
   "metadata": {},
   "outputs": [],
   "source": [
    "bow_df_all[\"house\"]"
   ]
  },
  {
   "cell_type": "code",
   "execution_count": null,
   "id": "64f3a3e0-80ad-4482-98c3-0963d7cc1273",
   "metadata": {},
   "outputs": [],
   "source": [
    "bow_df_all[\"house\"].describe()"
   ]
  }
 ],
 "metadata": {
  "kernelspec": {
   "display_name": "Python 3 (ipykernel)",
   "language": "python",
   "name": "python3"
  },
  "language_info": {
   "codemirror_mode": {
    "name": "ipython",
    "version": 3
   },
   "file_extension": ".py",
   "mimetype": "text/x-python",
   "name": "python",
   "nbconvert_exporter": "python",
   "pygments_lexer": "ipython3",
   "version": "3.10.9"
  }
 },
 "nbformat": 4,
 "nbformat_minor": 5
}
