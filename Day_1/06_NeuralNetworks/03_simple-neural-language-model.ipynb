{
 "cells": [
  {
   "cell_type": "code",
   "execution_count": 30,
   "id": "treated-hepatitis",
   "metadata": {
    "_cell_guid": "b1076dfc-b9ad-4769-8c92-a6c4dae69d19",
    "_uuid": "8f2839f25d086af736a60e9eeb907d3b93b6e0e5",
    "papermill": {
     "duration": 0.052094,
     "end_time": "2021-06-18T13:23:15.590622",
     "exception": false,
     "start_time": "2021-06-18T13:23:15.538528",
     "status": "completed"
    },
    "tags": []
   },
   "outputs": [],
   "source": [
    "import numpy as np \n",
    "import pandas as pd\n",
    "from sklearn.model_selection import train_test_split"
   ]
  },
  {
   "cell_type": "markdown",
   "id": "detected-appraisal",
   "metadata": {
    "papermill": {
     "duration": 0.027074,
     "end_time": "2021-06-18T13:23:15.645947",
     "exception": false,
     "start_time": "2021-06-18T13:23:15.618873",
     "status": "completed"
    },
    "tags": []
   },
   "source": [
    "# Simple Neural Langauge Model "
   ]
  },
  {
   "cell_type": "code",
   "execution_count": 14,
   "id": "planned-scroll",
   "metadata": {
    "editable": true,
    "papermill": {
     "duration": 0.033155,
     "end_time": "2021-06-18T13:23:15.766670",
     "exception": false,
     "start_time": "2021-06-18T13:23:15.733515",
     "status": "completed"
    },
    "slideshow": {
     "slide_type": ""
    },
    "tags": []
   },
   "outputs": [],
   "source": [
    "sentences = ['mohit likes icecream', 'Starks were cool', 'life is fool', 'batman is ironman']"
   ]
  },
  {
   "cell_type": "code",
   "execution_count": 15,
   "id": "executed-salem",
   "metadata": {
    "papermill": {
     "duration": 0.035347,
     "end_time": "2021-06-18T13:23:15.829418",
     "exception": false,
     "start_time": "2021-06-18T13:23:15.794071",
     "status": "completed"
    },
    "tags": []
   },
   "outputs": [],
   "source": [
    "# we will try to predict next word using NLM \n",
    "\n",
    "# step one : Tokenization \n",
    "\n",
    "vocab = {} # map from word type to index \n",
    "inputs = [] # stores an indexified version of each sentences \n",
    "\n",
    "\n",
    "for sent in sentences:\n",
    "    sent_idxes = []\n",
    "    sent = sent.split() #tokenize w/ whitespace \n",
    "    \n",
    "    for w in sent: \n",
    "        if w not in vocab: \n",
    "            vocab[w] = len(vocab) # add new type to the vocab \n",
    "            \n",
    "        sent_idxes.append(vocab[w])\n",
    "    \n",
    "    inputs.append(sent_idxes)"
   ]
  },
  {
   "cell_type": "code",
   "execution_count": 16,
   "id": "exact-binary",
   "metadata": {
    "papermill": {
     "duration": 0.0338,
     "end_time": "2021-06-18T13:23:15.891277",
     "exception": false,
     "start_time": "2021-06-18T13:23:15.857477",
     "status": "completed"
    },
    "tags": []
   },
   "outputs": [
    {
     "name": "stdout",
     "output_type": "stream",
     "text": [
      "{'mohit': 0, 'likes': 1, 'icecream': 2, 'Starks': 3, 'were': 4, 'cool': 5, 'life': 6, 'is': 7, 'fool': 8, 'batman': 9, 'ironman': 10}\n"
     ]
    }
   ],
   "source": [
    "print(vocab)"
   ]
  },
  {
   "cell_type": "code",
   "execution_count": 17,
   "id": "flying-discharge",
   "metadata": {
    "papermill": {
     "duration": 0.034627,
     "end_time": "2021-06-18T13:23:15.953291",
     "exception": false,
     "start_time": "2021-06-18T13:23:15.918664",
     "status": "completed"
    },
    "tags": []
   },
   "outputs": [
    {
     "name": "stdout",
     "output_type": "stream",
     "text": [
      "[[0, 1, 2], [3, 4, 5], [6, 7, 8], [9, 7, 10]]\n"
     ]
    }
   ],
   "source": [
    "print(inputs)"
   ]
  },
  {
   "cell_type": "code",
   "execution_count": 18,
   "id": "adult-wildlife",
   "metadata": {
    "papermill": {
     "duration": 1.233177,
     "end_time": "2021-06-18T13:23:17.215103",
     "exception": false,
     "start_time": "2021-06-18T13:23:15.981926",
     "status": "completed"
    },
    "tags": []
   },
   "outputs": [
    {
     "name": "stdout",
     "output_type": "stream",
     "text": [
      "Prefix tensor([[0, 1],\n",
      "        [3, 4],\n",
      "        [6, 7],\n",
      "        [9, 7]]) Labels tensor([ 2,  5,  8, 10])\n"
     ]
    }
   ],
   "source": [
    "import torch \n",
    "\n",
    "# 1 convert to long tensors \n",
    "# 2 define inpts and outpts\n",
    "prefixes = torch.LongTensor([dream[:-1] for dream in inputs])\n",
    "#print(prefixes)\n",
    "labels = torch.LongTensor([dream[-1] for dream in inputs])\n",
    "print('Prefix',prefixes,'Labels', labels)"
   ]
  },
  {
   "cell_type": "code",
   "execution_count": 19,
   "id": "breathing-duncan",
   "metadata": {
    "papermill": {
     "duration": 0.047473,
     "end_time": "2021-06-18T13:23:17.291747",
     "exception": false,
     "start_time": "2021-06-18T13:23:17.244274",
     "status": "completed"
    },
    "tags": []
   },
   "outputs": [],
   "source": [
    "# onto defining the network \n",
    "import torch.nn as nn\n",
    "\n",
    "class NLM(nn.Module):\n",
    "    # important things \n",
    "    # 1. write init functions (initializes all teh paarameters of the network )\n",
    "    # 2. forward functions (defines the forward propagation computations)\n",
    "    \n",
    "    \n",
    "    def __init__(self, d_embedding, d_hidden, window_size, len_vocab):\n",
    "        super(NLM, self).__init__() # init the base module class \n",
    "        self.d_emb = d_embedding\n",
    "        self.embeddings = nn.Embedding(len_vocab, d_embedding)\n",
    "        \n",
    "        # concatenated embeddings > hidden\n",
    "        self.W_hid = nn.Linear(d_embedding * window_size, d_hidden)\n",
    "        \n",
    "        # hidden > output probability distribution over vocab \n",
    "        self.W_out = nn.Linear(d_hidden, len_vocab)\n",
    "        \n",
    "        \n",
    "    def forward(self, input):\n",
    "        batch_size, window_size = input.size()\n",
    "        embs = self.embeddings(input)\n",
    "        #print('Embedding size',embs.size())\n",
    "        \n",
    "        # next we want to concatenate the prefix emveddings together\n",
    "        concat_embs = embs.view(batch_size, window_size * self.d_emb)\n",
    "        #print('concat_embs', concat_embs.size())\n",
    "        \n",
    "        #print(embs[0])\n",
    "        #print(concat_embs[0])\n",
    "\n",
    "        # now we project thsi to the hidden space \n",
    "        hiddens = self.W_hid(concat_embs)\n",
    "        \n",
    "#        print('hidden size:',hiddens.size())\n",
    "        \n",
    "        \n",
    "        # finally project hiddens to vocabulary space \n",
    "        out = self.W_out(hiddens)\n",
    " #       print(out.size())\n",
    "        \n",
    "        return out # return unnormalized probability also known as **logits** \n",
    "        \n",
    "        #probs = nn.functional.softmax(out, dim=1)\n",
    "        #print(probs)\n",
    "network = NLM(d_embedding=5, d_hidden=12, window_size=2, len_vocab=len(vocab))\n",
    "    "
   ]
  },
  {
   "cell_type": "code",
   "execution_count": 20,
   "id": "thorough-regression",
   "metadata": {
    "papermill": {
     "duration": 0.035649,
     "end_time": "2021-06-18T13:23:17.355821",
     "exception": false,
     "start_time": "2021-06-18T13:23:17.320172",
     "status": "completed"
    },
    "tags": []
   },
   "outputs": [
    {
     "name": "stdout",
     "output_type": "stream",
     "text": [
      "NLM(\n",
      "  (embeddings): Embedding(11, 5)\n",
      "  (W_hid): Linear(in_features=10, out_features=12, bias=True)\n",
      "  (W_out): Linear(in_features=12, out_features=11, bias=True)\n",
      ")\n"
     ]
    }
   ],
   "source": [
    "print(network)"
   ]
  },
  {
   "cell_type": "code",
   "execution_count": 21,
   "id": "closed-pharmaceutical",
   "metadata": {
    "papermill": {
     "duration": 0.108967,
     "end_time": "2021-06-18T13:23:17.494069",
     "exception": false,
     "start_time": "2021-06-18T13:23:17.385102",
     "status": "completed"
    },
    "tags": []
   },
   "outputs": [
    {
     "name": "stdout",
     "output_type": "stream",
     "text": [
      "tensor([[-0.9148, -0.3845, -0.4009,  0.6939,  0.1451, -0.4445, -0.0334,  0.0610,\n",
      "          0.1489,  0.5961, -0.3777],\n",
      "        [-0.4711, -0.4002,  0.4270,  0.7673,  0.1619, -1.0607,  0.4779,  0.5755,\n",
      "          0.2724,  0.4126,  0.1768],\n",
      "        [ 0.0620,  0.4257,  0.1212, -0.1615, -0.2869, -0.2723,  0.4295, -0.6903,\n",
      "         -0.1328,  0.1644, -0.5329],\n",
      "        [ 0.3097,  0.4308, -0.3435,  0.1234, -0.3655, -0.2046,  0.1777, -0.5831,\n",
      "         -0.1630,  0.1311, -0.1915]], grad_fn=<AddmmBackward0>)\n"
     ]
    }
   ],
   "source": [
    "logits = network(prefixes)\n",
    "print(logits)"
   ]
  },
  {
   "cell_type": "code",
   "execution_count": 22,
   "id": "ecological-memory",
   "metadata": {
    "_kg_hide-output": true,
    "papermill": {
     "duration": 0.182098,
     "end_time": "2021-06-18T13:23:17.706149",
     "exception": false,
     "start_time": "2021-06-18T13:23:17.524051",
     "status": "completed"
    },
    "scrolled": true,
    "tags": []
   },
   "outputs": [
    {
     "name": "stdout",
     "output_type": "stream",
     "text": [
      "Epoch 0, loss 2.8989551067352295\n",
      "Epoch 1, loss 2.6712656021118164\n",
      "Epoch 2, loss 2.4671237468719482\n",
      "Epoch 3, loss 2.2776453495025635\n",
      "Epoch 4, loss 2.096468210220337\n",
      "Epoch 5, loss 1.9193052053451538\n",
      "Epoch 6, loss 1.7437639236450195\n",
      "Epoch 7, loss 1.5692832469940186\n",
      "Epoch 8, loss 1.3970167636871338\n",
      "Epoch 9, loss 1.2295053005218506\n",
      "Epoch 10, loss 1.0700929164886475\n",
      "Epoch 11, loss 0.9222098588943481\n",
      "Epoch 12, loss 0.7887284755706787\n",
      "Epoch 13, loss 0.671504557132721\n",
      "Epoch 14, loss 0.5711408853530884\n",
      "Epoch 15, loss 0.4870171546936035\n",
      "Epoch 16, loss 0.4175768494606018\n",
      "Epoch 17, loss 0.36074867844581604\n",
      "Epoch 18, loss 0.31434327363967896\n",
      "Epoch 19, loss 0.27633175253868103\n",
      "Epoch 20, loss 0.24498510360717773\n",
      "Epoch 21, loss 0.2189067304134369\n",
      "Epoch 22, loss 0.19700345396995544\n",
      "Epoch 23, loss 0.17843155562877655\n",
      "Epoch 24, loss 0.1625422090291977\n",
      "Epoch 25, loss 0.1488344669342041\n",
      "Epoch 26, loss 0.1369183361530304\n",
      "Epoch 27, loss 0.12648789584636688\n",
      "Epoch 28, loss 0.11729999631643295\n",
      "Epoch 29, loss 0.10916008800268173\n",
      "Epoch 30, loss 0.10191052407026291\n",
      "Epoch 31, loss 0.09542281925678253\n",
      "Epoch 32, loss 0.08959086984395981\n",
      "Epoch 33, loss 0.08432704955339432\n",
      "Epoch 34, loss 0.07955770939588547\n",
      "Epoch 35, loss 0.07522118091583252\n",
      "Epoch 36, loss 0.07126524299383163\n",
      "Epoch 37, loss 0.0676453709602356\n",
      "Epoch 38, loss 0.06432332843542099\n",
      "Epoch 39, loss 0.06126630678772926\n",
      "Epoch 40, loss 0.05844610184431076\n",
      "Epoch 41, loss 0.05583811178803444\n",
      "Epoch 42, loss 0.053420864045619965\n",
      "Epoch 43, loss 0.05117551237344742\n",
      "Epoch 44, loss 0.049085583537817\n",
      "Epoch 45, loss 0.047136712819337845\n",
      "Epoch 46, loss 0.04531588405370712\n",
      "Epoch 47, loss 0.04361177235841751\n",
      "Epoch 48, loss 0.04201424494385719\n",
      "Epoch 49, loss 0.040514200925827026\n",
      "Epoch 50, loss 0.0391036756336689\n",
      "Epoch 51, loss 0.037775348871946335\n",
      "Epoch 52, loss 0.036522600799798965\n",
      "Epoch 53, loss 0.035339631140232086\n",
      "Epoch 54, loss 0.03422119468450546\n",
      "Epoch 55, loss 0.0331624373793602\n",
      "Epoch 56, loss 0.03215900808572769\n",
      "Epoch 57, loss 0.031207015737891197\n",
      "Epoch 58, loss 0.03030260093510151\n",
      "Epoch 59, loss 0.029442766681313515\n",
      "Epoch 60, loss 0.028624307364225388\n",
      "Epoch 61, loss 0.02784467674791813\n",
      "Epoch 62, loss 0.02710120752453804\n",
      "Epoch 63, loss 0.02639162354171276\n",
      "Epoch 64, loss 0.02571374736726284\n",
      "Epoch 65, loss 0.0250657107681036\n",
      "Epoch 66, loss 0.02444564178586006\n",
      "Epoch 67, loss 0.023851828649640083\n",
      "Epoch 68, loss 0.02328287437558174\n",
      "Epoch 69, loss 0.0227371733635664\n",
      "Epoch 70, loss 0.022213488817214966\n",
      "Epoch 71, loss 0.021710608154535294\n",
      "Epoch 72, loss 0.021227378398180008\n",
      "Epoch 73, loss 0.020762696862220764\n",
      "Epoch 74, loss 0.020315594971179962\n",
      "Epoch 75, loss 0.019885176792740822\n",
      "Epoch 76, loss 0.01947055757045746\n",
      "Epoch 77, loss 0.019070828333497047\n",
      "Epoch 78, loss 0.018685394898056984\n",
      "Epoch 79, loss 0.01831354945898056\n",
      "Epoch 80, loss 0.017954427748918533\n",
      "Epoch 81, loss 0.017607582733035088\n",
      "Epoch 82, loss 0.017272531986236572\n",
      "Epoch 83, loss 0.016948437318205833\n",
      "Epoch 84, loss 0.016634993255138397\n",
      "Epoch 85, loss 0.016331680119037628\n",
      "Epoch 86, loss 0.01603795401751995\n",
      "Epoch 87, loss 0.01575356349349022\n",
      "Epoch 88, loss 0.01547789853066206\n",
      "Epoch 89, loss 0.01521073468029499\n",
      "Epoch 90, loss 0.014951582998037338\n",
      "Epoch 91, loss 0.014700213447213173\n",
      "Epoch 92, loss 0.014456192962825298\n",
      "Epoch 93, loss 0.014219352975487709\n",
      "Epoch 94, loss 0.01398925855755806\n",
      "Epoch 95, loss 0.013765708543360233\n",
      "Epoch 96, loss 0.013548474758863449\n",
      "Epoch 97, loss 0.013337180018424988\n",
      "Epoch 98, loss 0.01313173770904541\n",
      "Epoch 99, loss 0.012931978330016136\n"
     ]
    }
   ],
   "source": [
    "num_epochs = 100 \n",
    "learning_rate = 0.1 \n",
    "loss_fn = nn.CrossEntropyLoss()\n",
    "\n",
    "optimizer = torch.optim.SGD(params = network.parameters(), lr=learning_rate)\n",
    "\n",
    "# training loop \n",
    "for i in range(num_epochs):\n",
    "    logits = network(prefixes)\n",
    "    loss = loss_fn(logits, labels)\n",
    "\n",
    "    #Step1 compute gradient \n",
    "    loss.backward()\n",
    "    # step 2 update params using gradient descent \n",
    "    optimizer.step()\n",
    "    \n",
    "    # zero the gradients for next epoch\n",
    "    optimizer.zero_grad()\n",
    "    print(f'Epoch {i}, loss {loss}')\n"
   ]
  },
  {
   "cell_type": "code",
   "execution_count": 23,
   "id": "stuffed-entertainment",
   "metadata": {
    "papermill": {
     "duration": 0.035966,
     "end_time": "2021-06-18T13:23:17.772563",
     "exception": false,
     "start_time": "2021-06-18T13:23:17.736597",
     "status": "completed"
    },
    "tags": []
   },
   "outputs": [],
   "source": [
    "# is it working?\n",
    "# reverse vocabulary mapping (idx> word type)\n",
    "\n",
    "rev_vocab =dict((idx, word) for (word, idx) in vocab.items()) "
   ]
  },
  {
   "cell_type": "code",
   "execution_count": 24,
   "id": "sunset-nerve",
   "metadata": {
    "papermill": {
     "duration": 0.038233,
     "end_time": "2021-06-18T13:23:17.840626",
     "exception": false,
     "start_time": "2021-06-18T13:23:17.802393",
     "status": "completed"
    },
    "tags": []
   },
   "outputs": [
    {
     "data": {
      "text/plain": [
       "{0: 'mohit',\n",
       " 1: 'likes',\n",
       " 2: 'icecream',\n",
       " 3: 'Starks',\n",
       " 4: 'were',\n",
       " 5: 'cool',\n",
       " 6: 'life',\n",
       " 7: 'is',\n",
       " 8: 'fool',\n",
       " 9: 'batman',\n",
       " 10: 'ironman'}"
      ]
     },
     "execution_count": 24,
     "metadata": {},
     "output_type": "execute_result"
    }
   ],
   "source": [
    "rev_vocab"
   ]
  },
  {
   "cell_type": "code",
   "execution_count": 25,
   "id": "bearing-mouse",
   "metadata": {
    "papermill": {
     "duration": 0.043236,
     "end_time": "2021-06-18T13:23:17.914329",
     "exception": false,
     "start_time": "2021-06-18T13:23:17.871093",
     "status": "completed"
    },
    "tags": []
   },
   "outputs": [
    {
     "name": "stdout",
     "output_type": "stream",
     "text": [
      "tensor([1.1911e-04, 4.1115e-04, 9.9087e-01, 6.7657e-04, 1.0363e-03, 8.8313e-04,\n",
      "        6.1826e-04, 4.6378e-04, 4.2427e-03, 6.6321e-04, 1.2735e-05],\n",
      "       grad_fn=<SqueezeBackward0>)\n"
     ]
    }
   ],
   "source": [
    "mohitlikes = prefixes[0].unsqueeze(0)\n",
    "logits = network(mohitlikes)\n",
    "#print(logits)\n",
    "prob = nn.functional.softmax(logits, dim=1).squeeze()\n",
    "\n",
    "print(prob)"
   ]
  },
  {
   "cell_type": "code",
   "execution_count": 26,
   "id": "spiritual-convergence",
   "metadata": {
    "papermill": {
     "duration": 0.040259,
     "end_time": "2021-06-18T13:23:17.984283",
     "exception": false,
     "start_time": "2021-06-18T13:23:17.944024",
     "status": "completed"
    },
    "tags": []
   },
   "outputs": [
    {
     "name": "stdout",
     "output_type": "stream",
     "text": [
      "given mohit likes model predicts \"icecream\" as the next word with 0.9909 probability \n"
     ]
    }
   ],
   "source": [
    "argmax_idx = torch.argmax(prob).item()\n",
    "print('given mohit likes model predicts \"%s\" as the next word with %0.4f probability '%(rev_vocab[argmax_idx], prob[argmax_idx]))"
   ]
  },
  {
   "cell_type": "code",
   "execution_count": 27,
   "id": "conservative-layout",
   "metadata": {
    "papermill": {
     "duration": 0.039607,
     "end_time": "2021-06-18T13:23:18.054022",
     "exception": false,
     "start_time": "2021-06-18T13:23:18.014415",
     "status": "completed"
    },
    "tags": []
   },
   "outputs": [
    {
     "name": "stdout",
     "output_type": "stream",
     "text": [
      "tensor([3.9025e-04, 8.2830e-04, 2.1691e-03, 3.8926e-04, 2.0898e-04, 7.0744e-05,\n",
      "        1.0003e-03, 3.2197e-04, 9.8431e-01, 3.3799e-04, 9.9774e-03],\n",
      "       grad_fn=<SqueezeBackward0>)\n",
      "given \"life is\" model predicts \"fool\" as the next word with 0.9843 probability \n"
     ]
    }
   ],
   "source": [
    "lifeis = prefixes[2].unsqueeze(0)\n",
    "logits = network(lifeis)\n",
    "#print(logits)\n",
    "prob = nn.functional.softmax(logits, dim=1).squeeze()\n",
    "\n",
    "print(prob)\n",
    "argmax_idx = torch.argmax(prob).item()\n",
    "print('given \"life is\" model predicts \"%s\" as the next word with %0.4f probability '%(rev_vocab[argmax_idx], prob[argmax_idx]))"
   ]
  }
 ],
 "metadata": {
  "kernelspec": {
   "display_name": "Python 3 (ipykernel)",
   "language": "python",
   "name": "python3"
  },
  "language_info": {
   "codemirror_mode": {
    "name": "ipython",
    "version": 3
   },
   "file_extension": ".py",
   "mimetype": "text/x-python",
   "name": "python",
   "nbconvert_exporter": "python",
   "pygments_lexer": "ipython3",
   "version": "3.10.9"
  },
  "papermill": {
   "default_parameters": {},
   "duration": 2228.288701,
   "end_time": "2021-06-18T14:00:17.478075",
   "environment_variables": {},
   "exception": null,
   "input_path": "__notebook__.ipynb",
   "output_path": "__notebook__.ipynb",
   "parameters": {},
   "start_time": "2021-06-18T13:23:09.189374",
   "version": "2.3.3"
  }
 },
 "nbformat": 4,
 "nbformat_minor": 5
}
