{
 "cells": [
  {
   "cell_type": "code",
   "execution_count": 30,
   "id": "treated-hepatitis",
   "metadata": {
    "_cell_guid": "b1076dfc-b9ad-4769-8c92-a6c4dae69d19",
    "_uuid": "8f2839f25d086af736a60e9eeb907d3b93b6e0e5",
    "papermill": {
     "duration": 0.052094,
     "end_time": "2021-06-18T13:23:15.590622",
     "exception": false,
     "start_time": "2021-06-18T13:23:15.538528",
     "status": "completed"
    },
    "tags": []
   },
   "outputs": [],
   "source": [
    "import numpy as np \n",
    "import pandas as pd\n",
    "from sklearn.model_selection import train_test_split"
   ]
  },
  {
   "cell_type": "code",
   "execution_count": 62,
   "id": "endangered-cincinnati",
   "metadata": {
    "papermill": {
     "duration": 1.608492,
     "end_time": "2021-06-18T13:23:19.820033",
     "exception": false,
     "start_time": "2021-06-18T13:23:18.211541",
     "status": "completed"
    },
    "tags": []
   },
   "outputs": [],
   "source": [
    "import numpy as np \n",
    "import pandas as pd \n",
    "import matplotlib.pyplot as plt \n",
    "import nltk \n",
    "import string \n",
    "import unidecode \n",
    "import random \n",
    "import torch \n"
   ]
  },
  {
   "cell_type": "code",
   "execution_count": 68,
   "id": "binding-cloud",
   "metadata": {
    "papermill": {
     "duration": 0.06043,
     "end_time": "2021-06-18T13:23:19.930317",
     "exception": false,
     "start_time": "2021-06-18T13:23:19.869887",
     "status": "completed"
    },
    "tags": []
   },
   "outputs": [
    {
     "name": "stdout",
     "output_type": "stream",
     "text": [
      "we are working on CPU ;P\n"
     ]
    }
   ],
   "source": [
    "# to check the GPU is working or not \n",
    "device = torch.cuda.is_available()\n",
    "if device : \n",
    "    print('GPU is available')\n",
    "else : \n",
    "    print(\"we are working on CPU\")"
   ]
  },
  {
   "cell_type": "code",
   "execution_count": 73,
   "id": "described-trust",
   "metadata": {
    "editable": true,
    "papermill": {
     "duration": 0.173099,
     "end_time": "2021-06-18T13:23:20.152885",
     "exception": false,
     "start_time": "2021-06-18T13:23:19.979786",
     "status": "completed"
    },
    "slideshow": {
     "slide_type": ""
    },
    "tags": []
   },
   "outputs": [
    {
     "data": {
      "text/plain": [
       "(28,)"
      ]
     },
     "execution_count": 73,
     "metadata": {},
     "output_type": "execute_result"
    }
   ],
   "source": [
    "df = pd.read_pickle(\"../../data/dreams_annotated_cleaned.pkl\")\n",
    "df[\"report_cleaned\"] = df[\"report_cleaned\"].apply(lambda x: x[0])\n",
    "df = df.sample(frac=0.001)\n",
    "train = df[\"report\"]\n",
    "train.shape"
   ]
  },
  {
   "cell_type": "code",
   "execution_count": 74,
   "id": "44df5598-86a2-48be-877f-4ff95c2efef7",
   "metadata": {
    "editable": true,
    "slideshow": {
     "slide_type": ""
    },
    "tags": []
   },
   "outputs": [],
   "source": [
    "text = train.to_list()"
   ]
  },
  {
   "cell_type": "code",
   "execution_count": 75,
   "id": "complicated-bones",
   "metadata": {
    "papermill": {
     "duration": 0.0392,
     "end_time": "2021-06-18T13:23:20.388004",
     "exception": false,
     "start_time": "2021-06-18T13:23:20.348804",
     "status": "completed"
    },
    "tags": []
   },
   "outputs": [
    {
     "data": {
      "text/plain": [
       "[\"<i>The Mountain Top</i> <br/><br/> I'm going up a mountain, trying to get to the highest point. I climb and climb. I get to the top. There are people there. Snow is on the ground. The view is beautiful. I see down upon the clouds. I'm walking and then I am in the back of a pickup truck, which is surrounded by fog and clouds, so I can't see the ground. The truck drifts in the spot like a boat anchored in the wind. There is a kid that I know on a snowboard. I say something about skiing but realize the snow is soft and mushy. The snow is deep. The whole area is very pretty. I go into a garage-like space. A man follows me, parking some sort of vehicle there, so I must move out of the way. I go into a gymnasium-like area, where there are several different rooms in which activities can take place. There is one activity where a small hard ball is hit up against a wall. There are two people playing this game, and some spectators.\",\n",
       " \"All of my family was at Kidwell's. Uncle J's house. We were walking around and we walked down to the trampoline. We talked about how much we used to enjoy playing on the trampoline. There were three of them. they put Rachel S on one with me. I was having a hard time keeping her away from the sides. I don't know if I was taking too long on one of them or what, but everyone else either left or started using the other two.\",\n",
       " 'I am giving a lecture at a conference which was very successful. Now I am walking across campus to go to another meeting room. I am accompanied by male colleagues and dignitaries. I turn to my right and see a male angel in a green surgical gown and a surgical net hat on who is carrying a bouquet of flowers to bring to me. He is in harness like fliers on stage. I receive the flowers and say, \"Thanks.\" We arrive at the meeting room. I step through the door and stop suddenly. There is a small platform and then a huge room, ill kept, paint peeling, not swept, hardly any chairs. I see some children already seated on the floor and warmly greet them. More are coming in.',\n",
       " 'I was at this place outside and it was night. I had this job which Chuck (Gossip Girl) had gotten for me. We were at this gate which we had to guard and he gave me a beer. These guys came and they asked me if I wanted to be working here and I said not really. Chuck then was a Jason Bateman look-alike, but didn\\'t really look like him and he said \"Why did I have to roll you!\", which I deciphered as he had to choose someone for something and had rolled a dice. I was arguing with him and we both stormed off together. We were then at this place with computers. He said something about us getting married and I said \"We don\\'t have to get married\" (he figured because we were \\'enemies\\' we would get together). I was trying to make a sandwich.',\n",
       " 'I was a little late to breakfast and there was nothing, not even fruit on my table. I asked three girls about it but they were all new waitresses. Finally one of the older ones came and I asked for something to eat and my coffee.',\n",
       " '[\"Grandma should teach Charla about sex.\"] I am in a room. A woman is there and so is Charla. The woman is telling Charla that it should be Grandma that teaches her about sex. She meant I should have sexual contact with her to show her how to do it. Charla is disgusted by that idea and has her back to me saying to the woman, but I don\\'t want to. I feel very uncomfortable as well. Is that supposed to be my job? It doesn\\'t feel right.',\n",
       " 'I was with Alicia J. At least during part of the dream I was a midget. We had midget cars that we were driving. Mine was a stick shift that I was learning to drive and there was some kind of race that I won. There was also a house that Alicia J had that all of these artistic people came to - something to do with arts. Something about a fireplace. I was also going to this town with Mari Kate S and Rachel S. We came to this house that had alot of Easter stuff for sale in their yard. It had many pieces of the same things - like you would find in a store. Aunt P and Aunt H were there also.',\n",
       " \"Jimmy and I were in a park, arguing over the meaning of the word 'go'. We each thought the other was completely full of shit and spent a lot of time arguing about it -- a good natured battle.\",\n",
       " \"I went to Cleveland to interview for a job at Fifth Third Bank. I was alone and not sure of the directions. There was road construction along one of the streets or maybe an exit ramp from the highway. Where the construction was going on there was a long line of construction workers all facing the traffic, each just a few feet from each other, to make sure that all the cars went very slowly and that they did not get over to far towards the construction. I was looking down at the road in front of me and at the line of workers. I was watching very carefully. I noticed something about the pavement I was driving on and realized that this is why they were being so cautious and I wanted to make sure I complied. I went to a McDonald's to get something to drink. There was no drive through and only a few parking spaces total for customers use. Luckily one of them was open so I parked there. There were only four to six tables total in the restaurant. There was an order window inside the restaurant. I decided to order some french fries as well. While I was waiting I went to a restaurant next door to use the women room. The lobby area was very dark and the restroom doors were dark wood with dark brown signs and dark gold lettering on them. I didn't notice it at first but both the men's and the women's had two doors each. I was trying to read the signs for the men's room thinking that one said men and one said women but I couldn't make out which was which. I man came up and went in. I could see the walls inside. They were bright red. I realized then that both doors said men and then I spotted the doors for the women's room. Just as I turned to go into the women's room I saw two separate women go into the men's room. They went and ahead and stayed and used it before coming out. I had to pay my bill at the restaurant and then I went back to my car. I had decided to walk to the interview because I thought it was only three or four blocks. It was on 43rd street and I was on 39th at the time. I thought I just needed to walk down 39th street to my right for one or two blocks, turn left and walk to 43rd street and I would pretty much be there. As I walked I remembered that many of Cleveland's main streets go off at weird angles rather than all being right angles. This threw me and I wasn't sure which way to go now to get to the bank for my interview. As I kept walking I was in this narrow corridor with business buildings to either side of me. They were quite varied in appearance. Many of them had very shiny, contemporary exteriors. Several of them had very odd shaped and inset entryways to get to their doors. Some of the buildings were not typical square or rectangles but had odd angular shapes. I finally stopped two women and asked them for directions. They were locals but seemed to have difficulty giving me clear directions. I finally found the building for the bank. When I walked in it looked more like a very large round atrium in the very center of a huge department store. The atrium had displays and such in it as well but the ceiling went much higher than that of the first floor of the rest of the building. I was walking around the atrium looking for some sign of the bank. I finally saw something that looked like it might be a teller's window so I went up and asked someone. They called a woman to come and meet me. She took me into an elevator. I don't know what floor we got off on. When we got off you could see nothing but carpeted divider walls that were about six feet tall. The all seemed to be self-supporting carpet and did not have much structure or seem to have much stability to them. None were set at straight angles but rather curved and waved all around very much like a maze. I was feeling very nervous, claustrophobic, as the areas to walk between these carpet walls was very narrow. With them curving around as much as they did I had trouble keeping sight of the women I was following. She would look into an opening occasionally. I wasn't sure if she was looking for an open space for us to sit and talk or if she wasn't sure herself where she was going. I had the sense it was both. Once I lost her completely and got very panicky until I found an opening and saw some people. Then the woman I had been following showed up. She took me into an area that had two desks with three or four chairs at each desk. She sat me down at a desk where an older gentleman was sitting. He was also there applying for a job. A male employee of the bank then came in and sat down at began to interview both of us while the woman sat in the background. He asked the man about his education and experience then asked me to tell him about mine. I felt very self-conscious, as it seemed to make the other man very uncomfortable. I tried to play down both my education and my experience. Also, I didn't want them to be held against me in getting the job if they weren't going to be viewed as positive reasons for me to get the job. I began to hope that there was more than one position so we could both get a job. The woman and I then got up and walked to another area. It was much larger, more open and there were more people there. \",\n",
       " 'Frank has booked a bus tour for us; I arrive very late and have to flag down the bus as it leaves the depot. The driver seems angry as does Frank, asking why I was so late? I wonder if I can go on the trip since I have no luggage and therefore no change of clothes. I dont know whether I go or not... frustrated feeling.']"
      ]
     },
     "execution_count": 75,
     "metadata": {},
     "output_type": "execute_result"
    }
   ],
   "source": [
    "text[:10]"
   ]
  },
  {
   "cell_type": "code",
   "execution_count": 76,
   "id": "focal-geography",
   "metadata": {
    "papermill": {
     "duration": 0.044976,
     "end_time": "2021-06-18T13:23:20.464374",
     "exception": false,
     "start_time": "2021-06-18T13:23:20.419398",
     "status": "completed"
    },
    "tags": []
   },
   "outputs": [
    {
     "data": {
      "text/plain": [
       "5067"
      ]
     },
     "execution_count": 76,
     "metadata": {},
     "output_type": "execute_result"
    }
   ],
   "source": [
    "def joinString(text):\n",
    "    return ' '.join(s for s in text)\n",
    "text = joinString(text)\n",
    "len(text.split())"
   ]
  },
  {
   "cell_type": "code",
   "execution_count": 77,
   "id": "occupational-motion",
   "metadata": {
    "papermill": {
     "duration": 0.041752,
     "end_time": "2021-06-18T13:23:20.538295",
     "exception": false,
     "start_time": "2021-06-18T13:23:20.496543",
     "status": "completed"
    },
    "tags": []
   },
   "outputs": [],
   "source": [
    "text = text.lower().split()"
   ]
  },
  {
   "cell_type": "code",
   "execution_count": 78,
   "id": "genetic-shepherd",
   "metadata": {
    "papermill": {
     "duration": 0.169306,
     "end_time": "2021-06-18T13:23:20.739680",
     "exception": false,
     "start_time": "2021-06-18T13:23:20.570374",
     "status": "completed"
    },
    "tags": []
   },
   "outputs": [],
   "source": [
    "trigrams = [([text[i], text[i+1]], text[i+2]) for i in range(len(text) - 2)]"
   ]
  },
  {
   "cell_type": "code",
   "execution_count": 79,
   "id": "subject-trance",
   "metadata": {
    "papermill": {
     "duration": 0.039529,
     "end_time": "2021-06-18T13:23:20.811528",
     "exception": false,
     "start_time": "2021-06-18T13:23:20.771999",
     "status": "completed"
    },
    "tags": []
   },
   "outputs": [
    {
     "data": {
      "text/plain": [
       "[(['<i>the', 'mountain'], 'top</i>'), (['mountain', 'top</i>'], '<br/><br/>')]"
      ]
     },
     "execution_count": 79,
     "metadata": {},
     "output_type": "execute_result"
    }
   ],
   "source": [
    "trigrams[:2]"
   ]
  },
  {
   "cell_type": "code",
   "execution_count": 80,
   "id": "surface-efficiency",
   "metadata": {
    "papermill": {
     "duration": 0.04509,
     "end_time": "2021-06-18T13:23:20.888949",
     "exception": false,
     "start_time": "2021-06-18T13:23:20.843859",
     "status": "completed"
    },
    "tags": []
   },
   "outputs": [
    {
     "name": "stdout",
     "output_type": "stream",
     "text": [
      "1495\n"
     ]
    }
   ],
   "source": [
    "vocab = set(text)\n",
    "print(len(vocab))"
   ]
  },
  {
   "cell_type": "code",
   "execution_count": 81,
   "id": "inclusive-germany",
   "metadata": {
    "papermill": {
     "duration": 0.040785,
     "end_time": "2021-06-18T13:23:20.963060",
     "exception": false,
     "start_time": "2021-06-18T13:23:20.922275",
     "status": "completed"
    },
    "tags": []
   },
   "outputs": [],
   "source": [
    "voc_len = len(vocab)\n",
    "word_to_idx = { word: i for i, word in enumerate(vocab)}"
   ]
  },
  {
   "cell_type": "code",
   "execution_count": 82,
   "id": "faced-philippines",
   "metadata": {
    "papermill": {
     "duration": 0.626488,
     "end_time": "2021-06-18T13:23:21.621893",
     "exception": false,
     "start_time": "2021-06-18T13:23:20.995405",
     "status": "completed"
    },
    "tags": []
   },
   "outputs": [],
   "source": [
    "inp = []\n",
    "tar = []\n",
    "for context, target in trigrams : \n",
    "    context_idxs = torch.tensor([word_to_idx[w] for w in context], dtype=torch.long)\n",
    "    inp.append(context_idxs)\n",
    "    targ = torch.tensor([word_to_idx[target]], dtype=torch.long)\n",
    "    tar.append(targ)"
   ]
  },
  {
   "cell_type": "code",
   "execution_count": 131,
   "id": "rough-filing",
   "metadata": {
    "papermill": {
     "duration": 0.043264,
     "end_time": "2021-06-18T13:23:21.698012",
     "exception": false,
     "start_time": "2021-06-18T13:23:21.654748",
     "status": "completed"
    },
    "tags": []
   },
   "outputs": [],
   "source": [
    "# Let's build our model now \n",
    "import torch\n",
    "import torch.nn as nn \n",
    "from torch.autograd import Variable \n",
    "\n",
    "class RNN(nn.Module):\n",
    "    def __init__(self, input_size, hidden_size, output_size, n_layers=1):\n",
    "        super(RNN, self).__init__()\n",
    "        self.input_size = input_size\n",
    "        self.hidden_size = hidden_size\n",
    "        self.output_size = output_size \n",
    "        self.n_layers = n_layers\n",
    "        \n",
    "        self.encoder = nn.Embedding(input_size, hidden_size)\n",
    "        self.gru = nn.GRU(hidden_size*2, hidden_size, n_layers, batch_first=True, bidirectional=False)\n",
    "        self.decoder = nn.Linear(hidden_size, output_size)\n",
    "        \n",
    "        \n",
    "    def forward(self, input, hidden):\n",
    "        input = self.encoder(input.view(1, -1))\n",
    "        output, hidden = self.gru(input.view(1, 1, -1), hidden)\n",
    "        output = self.decoder(output.view(1, -1))\n",
    "        return output, hidden\n",
    "    \n",
    "    def init_hidden(self):\n",
    "        return Variable(torch.zeros(self.n_layers, 1, self.hidden_size))"
   ]
  },
  {
   "cell_type": "code",
   "execution_count": 132,
   "id": "latter-keeping",
   "metadata": {
    "papermill": {
     "duration": 0.039681,
     "end_time": "2021-06-18T13:23:21.770178",
     "exception": false,
     "start_time": "2021-06-18T13:23:21.730497",
     "status": "completed"
    },
    "tags": []
   },
   "outputs": [],
   "source": [
    "rnn = RNN(2, 10, 1)"
   ]
  },
  {
   "cell_type": "code",
   "execution_count": 133,
   "id": "crazy-while",
   "metadata": {
    "papermill": {
     "duration": 0.039443,
     "end_time": "2021-06-18T13:23:21.841967",
     "exception": false,
     "start_time": "2021-06-18T13:23:21.802524",
     "status": "completed"
    },
    "tags": []
   },
   "outputs": [
    {
     "name": "stdout",
     "output_type": "stream",
     "text": [
      "RNN(\n",
      "  (encoder): Embedding(2, 10)\n",
      "  (gru): GRU(20, 10, batch_first=True)\n",
      "  (decoder): Linear(in_features=10, out_features=1, bias=True)\n",
      ")\n"
     ]
    }
   ],
   "source": [
    "print(rnn)"
   ]
  },
  {
   "cell_type": "code",
   "execution_count": 134,
   "id": "revised-while",
   "metadata": {
    "papermill": {
     "duration": 0.042352,
     "end_time": "2021-06-18T13:23:21.918202",
     "exception": false,
     "start_time": "2021-06-18T13:23:21.875850",
     "status": "completed"
    },
    "tags": []
   },
   "outputs": [],
   "source": [
    "# training \n",
    "chunklen = len(trigrams)\n",
    "def train(inp , target):\n",
    "    if device:\n",
    "        hidden = decoder.init_hidden().cuda()\n",
    "    else:\n",
    "        hidden = decoder.init_hidden()\n",
    "    decoder.zero_grad()\n",
    "    loss = 0\n",
    "    \n",
    "    for c in range(chunklen):\n",
    "        if device:\n",
    "            output, hidden = decoder(inp[c].cuda(), hidden)\n",
    "            loss += criterion(output, target[c].cuda())\n",
    "        else:\n",
    "            output, hidden = decoder(inp[c], hidden)\n",
    "            loss += criterion(output, target[c])\n",
    "        \n",
    "    loss.backward()\n",
    "\n",
    "    decoder_optimizer.step()\n",
    "    \n",
    "    return loss.data.item()/chunklen\n",
    "        \n",
    "        "
   ]
  },
  {
   "cell_type": "code",
   "execution_count": 135,
   "id": "instrumental-british",
   "metadata": {
    "papermill": {
     "duration": 0.040014,
     "end_time": "2021-06-18T13:23:21.991150",
     "exception": false,
     "start_time": "2021-06-18T13:23:21.951136",
     "status": "completed"
    },
    "tags": []
   },
   "outputs": [],
   "source": [
    "import time, math \n",
    "def time_since(since):\n",
    "    s = time.time() - since\n",
    "    m = math.floor(s/60)\n",
    "    s -= m * 60\n",
    "    \n",
    "    return '%dm %ds' %(m, s)"
   ]
  },
  {
   "cell_type": "code",
   "execution_count": 140,
   "id": "stuck-tumor",
   "metadata": {
    "papermill": {
     "duration": 2194.722212,
     "end_time": "2021-06-18T13:59:56.746225",
     "exception": false,
     "start_time": "2021-06-18T13:23:22.024013",
     "status": "completed"
    },
    "tags": []
   },
   "outputs": [],
   "source": [
    "n_epochs =3\n",
    "print_every = 5\n",
    "plot_every = 1\n",
    "hidden_size = 100\n",
    "#hidden_size = 10\n",
    "n_layers = 1 \n",
    "lr = 0.015 \n",
    "\n",
    "decoder = RNN(voc_len, hidden_size, voc_len, n_layers)\n",
    "decoder_optimizer = torch.optim.Adam(decoder.parameters(), lr=lr)\n",
    "criterion = nn.CrossEntropyLoss()\n",
    "start = time.time()\n",
    "all_losses = []\n",
    "loss_avg = 0\n",
    "if(device):\n",
    "    decoder.cuda()\n",
    "for epoch in range(1, n_epochs+1): \n",
    "    loss = train(inp, tar)\n",
    "    loss_avg  +=loss\n",
    "    \n",
    "    if epoch % print_every ==0:\n",
    "        print(\"[%s (%d %d%%) %.4f]\" %(time_since(start), epoch, epoch/n_epochs * 50, loss))\n",
    "    \n",
    "    if epoch % plot_every == 0: \n",
    "        all_losses.append(loss_avg/plot_every)\n",
    "        loss_avg = 0"
   ]
  },
  {
   "cell_type": "code",
   "execution_count": 141,
   "id": "simple-ability",
   "metadata": {
    "papermill": {
     "duration": 0.052003,
     "end_time": "2021-06-18T13:59:56.834268",
     "exception": false,
     "start_time": "2021-06-18T13:59:56.782265",
     "status": "completed"
    },
    "tags": []
   },
   "outputs": [],
   "source": [
    "def inference(prime_str='ok so', predict_len=100, temp = 0.8):\n",
    "    if device:\n",
    "        hidden = decoder.init_hidden().cuda()\n",
    "    else:\n",
    "        hidden = decoder.init_hidden()\n",
    "    \n",
    "    for p in range(predict_len):\n",
    "        if device:\n",
    "            prime_input = torch.tensor([word_to_idx[w] for w in prime_str.split()], dtype=torch.long).cuda()\n",
    "        else:\n",
    "            prime_input = torch.tensor([word_to_idx[w] for w in prime_str.split()], dtype=torch.long)\n",
    "        inp = prime_input[-2:]\n",
    "        output, hidden = decoder(inp, hidden)\n",
    "        \n",
    "        output_dist = output.data.view(-1).div(temp).exp()\n",
    "        top_i = torch.multinomial(output_dist, 1)[0]\n",
    "        \n",
    "        # add predicted word to string and use as next input\n",
    "        predicted_word = list(word_to_idx.keys())[list(word_to_idx.values()).index(top_i)]\n",
    "        prime_str +=\" \"+predicted_word\n",
    "        \n",
    "    return prime_str"
   ]
  },
  {
   "cell_type": "code",
   "execution_count": 142,
   "id": "prostate-twelve",
   "metadata": {
    "papermill": {
     "duration": 9.460561,
     "end_time": "2021-06-18T14:00:06.329319",
     "exception": false,
     "start_time": "2021-06-18T13:59:56.868758",
     "status": "completed"
    },
    "tags": []
   },
   "outputs": [
    {
     "name": "stdout",
     "output_type": "stream",
     "text": [
      "i am nobody inset cautious walked it and down around this never leave there just that but them. ride very started right \"hi\"; then bus griffin both point. an i time walked looked they some find stucco come well. to their began\n"
     ]
    }
   ],
   "source": [
    "print(inference(\"i am\", 40, temp=1))"
   ]
  },
  {
   "cell_type": "code",
   "execution_count": 143,
   "id": "sought-picnic",
   "metadata": {
    "papermill": {
     "duration": 8.550041,
     "end_time": "2021-06-18T14:00:14.914660",
     "exception": false,
     "start_time": "2021-06-18T14:00:06.364619",
     "status": "completed"
    },
    "tags": []
   },
   "outputs": [
    {
     "name": "stdout",
     "output_type": "stream",
     "text": [
      "i spent area. point. as having that to is someone i put sit play into find sweaters there of down slowly her down there people he keeping when where came there would find also student constantly one very women they thing <br\n"
     ]
    }
   ],
   "source": [
    "print(inference(\"i spent\", 40))"
   ]
  },
  {
   "cell_type": "code",
   "execution_count": null,
   "id": "20c78b0e-86de-4047-8456-c39f88c0549e",
   "metadata": {},
   "outputs": [],
   "source": []
  }
 ],
 "metadata": {
  "kernelspec": {
   "display_name": "Python 3 (ipykernel)",
   "language": "python",
   "name": "python3"
  },
  "language_info": {
   "codemirror_mode": {
    "name": "ipython",
    "version": 3
   },
   "file_extension": ".py",
   "mimetype": "text/x-python",
   "name": "python",
   "nbconvert_exporter": "python",
   "pygments_lexer": "ipython3",
   "version": "3.10.9"
  },
  "papermill": {
   "default_parameters": {},
   "duration": 2228.288701,
   "end_time": "2021-06-18T14:00:17.478075",
   "environment_variables": {},
   "exception": null,
   "input_path": "__notebook__.ipynb",
   "output_path": "__notebook__.ipynb",
   "parameters": {},
   "start_time": "2021-06-18T13:23:09.189374",
   "version": "2.3.3"
  }
 },
 "nbformat": 4,
 "nbformat_minor": 5
}
